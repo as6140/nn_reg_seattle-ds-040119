{
 "cells": [
  {
   "cell_type": "markdown",
   "metadata": {},
   "source": [
    "# Regularization and Optimization in Neural Networks\n",
    "\n",
    "## Regularization of NNs\n",
    "\n",
    "Does regularization make sense in the context of neural networks? <br/>\n",
    "\n",
    "Yes! We still have all of the salient ingredients: a loss function, overfitting vs. underfitting, and coefficients (weights) that could get too large.\n",
    "\n",
    "But there are now a few different flavors besides L1 and L2 regularization. (Note that L1 regularization is not common in the context of  neural networks.)"
   ]
  },
  {
   "cell_type": "code",
   "execution_count": 1,
   "metadata": {},
   "outputs": [
    {
     "name": "stderr",
     "output_type": "stream",
     "text": [
      "Using TensorFlow backend.\n"
     ]
    }
   ],
   "source": [
    "import pandas as pd\n",
    "from sklearn.model_selection import train_test_split\n",
    "from sklearn.preprocessing import StandardScaler\n",
    "from keras.models import Sequential\n",
    "from keras.layers import Dense\n",
    "from keras.utils import to_categorical #basically for one hot encoding the Y, output (wine dataset: \"quality\")\n",
    "from matplotlib import pyplot as plt\n",
    "%matplotlib inline"
   ]
  },
  {
   "cell_type": "code",
   "execution_count": 2,
   "metadata": {
    "scrolled": true
   },
   "outputs": [
    {
     "data": {
      "text/html": [
       "<div>\n",
       "<style scoped>\n",
       "    .dataframe tbody tr th:only-of-type {\n",
       "        vertical-align: middle;\n",
       "    }\n",
       "\n",
       "    .dataframe tbody tr th {\n",
       "        vertical-align: top;\n",
       "    }\n",
       "\n",
       "    .dataframe thead th {\n",
       "        text-align: right;\n",
       "    }\n",
       "</style>\n",
       "<table border=\"1\" class=\"dataframe\">\n",
       "  <thead>\n",
       "    <tr style=\"text-align: right;\">\n",
       "      <th></th>\n",
       "      <th>fixed acidity</th>\n",
       "      <th>volatile acidity</th>\n",
       "      <th>citric acid</th>\n",
       "      <th>residual sugar</th>\n",
       "      <th>chlorides</th>\n",
       "      <th>free sulfur dioxide</th>\n",
       "      <th>total sulfur dioxide</th>\n",
       "      <th>density</th>\n",
       "      <th>pH</th>\n",
       "      <th>sulphates</th>\n",
       "      <th>alcohol</th>\n",
       "      <th>quality</th>\n",
       "      <th>red_wine</th>\n",
       "    </tr>\n",
       "  </thead>\n",
       "  <tbody>\n",
       "    <tr>\n",
       "      <th>0</th>\n",
       "      <td>7.4</td>\n",
       "      <td>0.70</td>\n",
       "      <td>0.00</td>\n",
       "      <td>1.9</td>\n",
       "      <td>0.076</td>\n",
       "      <td>11.0</td>\n",
       "      <td>34.0</td>\n",
       "      <td>0.9978</td>\n",
       "      <td>3.51</td>\n",
       "      <td>0.56</td>\n",
       "      <td>9.4</td>\n",
       "      <td>5</td>\n",
       "      <td>1</td>\n",
       "    </tr>\n",
       "    <tr>\n",
       "      <th>1</th>\n",
       "      <td>7.8</td>\n",
       "      <td>0.88</td>\n",
       "      <td>0.00</td>\n",
       "      <td>2.6</td>\n",
       "      <td>0.098</td>\n",
       "      <td>25.0</td>\n",
       "      <td>67.0</td>\n",
       "      <td>0.9968</td>\n",
       "      <td>3.20</td>\n",
       "      <td>0.68</td>\n",
       "      <td>9.8</td>\n",
       "      <td>5</td>\n",
       "      <td>1</td>\n",
       "    </tr>\n",
       "    <tr>\n",
       "      <th>2</th>\n",
       "      <td>7.8</td>\n",
       "      <td>0.76</td>\n",
       "      <td>0.04</td>\n",
       "      <td>2.3</td>\n",
       "      <td>0.092</td>\n",
       "      <td>15.0</td>\n",
       "      <td>54.0</td>\n",
       "      <td>0.9970</td>\n",
       "      <td>3.26</td>\n",
       "      <td>0.65</td>\n",
       "      <td>9.8</td>\n",
       "      <td>5</td>\n",
       "      <td>1</td>\n",
       "    </tr>\n",
       "    <tr>\n",
       "      <th>3</th>\n",
       "      <td>11.2</td>\n",
       "      <td>0.28</td>\n",
       "      <td>0.56</td>\n",
       "      <td>1.9</td>\n",
       "      <td>0.075</td>\n",
       "      <td>17.0</td>\n",
       "      <td>60.0</td>\n",
       "      <td>0.9980</td>\n",
       "      <td>3.16</td>\n",
       "      <td>0.58</td>\n",
       "      <td>9.8</td>\n",
       "      <td>6</td>\n",
       "      <td>1</td>\n",
       "    </tr>\n",
       "    <tr>\n",
       "      <th>4</th>\n",
       "      <td>7.4</td>\n",
       "      <td>0.70</td>\n",
       "      <td>0.00</td>\n",
       "      <td>1.9</td>\n",
       "      <td>0.076</td>\n",
       "      <td>11.0</td>\n",
       "      <td>34.0</td>\n",
       "      <td>0.9978</td>\n",
       "      <td>3.51</td>\n",
       "      <td>0.56</td>\n",
       "      <td>9.4</td>\n",
       "      <td>5</td>\n",
       "      <td>1</td>\n",
       "    </tr>\n",
       "  </tbody>\n",
       "</table>\n",
       "</div>"
      ],
      "text/plain": [
       "   fixed acidity  volatile acidity  citric acid  residual sugar  chlorides  \\\n",
       "0            7.4              0.70         0.00             1.9      0.076   \n",
       "1            7.8              0.88         0.00             2.6      0.098   \n",
       "2            7.8              0.76         0.04             2.3      0.092   \n",
       "3           11.2              0.28         0.56             1.9      0.075   \n",
       "4            7.4              0.70         0.00             1.9      0.076   \n",
       "\n",
       "   free sulfur dioxide  total sulfur dioxide  density    pH  sulphates  \\\n",
       "0                 11.0                  34.0   0.9978  3.51       0.56   \n",
       "1                 25.0                  67.0   0.9968  3.20       0.68   \n",
       "2                 15.0                  54.0   0.9970  3.26       0.65   \n",
       "3                 17.0                  60.0   0.9980  3.16       0.58   \n",
       "4                 11.0                  34.0   0.9978  3.51       0.56   \n",
       "\n",
       "   alcohol  quality  red_wine  \n",
       "0      9.4        5         1  \n",
       "1      9.8        5         1  \n",
       "2      9.8        5         1  \n",
       "3      9.8        6         1  \n",
       "4      9.4        5         1  "
      ]
     },
     "execution_count": 2,
     "metadata": {},
     "output_type": "execute_result"
    }
   ],
   "source": [
    "# Reading in the dataset\n",
    "\n",
    "wine = pd.read_csv('wine.csv')\n",
    "wine.head()"
   ]
  },
  {
   "cell_type": "code",
   "execution_count": 3,
   "metadata": {},
   "outputs": [
    {
     "data": {
      "text/plain": [
       "6    2836\n",
       "5    2138\n",
       "7    1079\n",
       "4     216\n",
       "8     193\n",
       "3      30\n",
       "9       5\n",
       "Name: quality, dtype: int64"
      ]
     },
     "execution_count": 3,
     "metadata": {},
     "output_type": "execute_result"
    }
   ],
   "source": [
    "# Investigating our target\n",
    "\n",
    "wine['quality'].value_counts() #7 possibilities from rating 3-9"
   ]
  },
  {
   "cell_type": "code",
   "execution_count": 4,
   "metadata": {},
   "outputs": [],
   "source": [
    "# Re-calibrating\n",
    "\n",
    "wine['quality'] = wine['quality'].map(lambda x: x-3)"
   ]
  },
  {
   "cell_type": "code",
   "execution_count": 5,
   "metadata": {},
   "outputs": [
    {
     "data": {
      "text/plain": [
       "3    2836\n",
       "2    2138\n",
       "4    1079\n",
       "1     216\n",
       "5     193\n",
       "0      30\n",
       "6       5\n",
       "Name: quality, dtype: int64"
      ]
     },
     "execution_count": 5,
     "metadata": {},
     "output_type": "execute_result"
    }
   ],
   "source": [
    "wine['quality'].value_counts()"
   ]
  },
  {
   "cell_type": "code",
   "execution_count": 6,
   "metadata": {},
   "outputs": [],
   "source": [
    "# Defining X and y\n",
    "\n",
    "X = wine.drop('quality',axis=1)\n",
    "y = wine['quality']"
   ]
  },
  {
   "cell_type": "code",
   "execution_count": 7,
   "metadata": {
    "scrolled": true
   },
   "outputs": [
    {
     "name": "stderr",
     "output_type": "stream",
     "text": [
      "/anaconda3/envs/learn-env/lib/python3.6/site-packages/sklearn/preprocessing/data.py:625: DataConversionWarning: Data with input dtype int64, float64 were all converted to float64 by StandardScaler.\n",
      "  return self.partial_fit(X, y)\n",
      "/anaconda3/envs/learn-env/lib/python3.6/site-packages/sklearn/base.py:462: DataConversionWarning: Data with input dtype int64, float64 were all converted to float64 by StandardScaler.\n",
      "  return self.fit(X, **fit_params).transform(X)\n",
      "/anaconda3/envs/learn-env/lib/python3.6/site-packages/ipykernel_launcher.py:7: DataConversionWarning: Data with input dtype int64, float64 were all converted to float64 by StandardScaler.\n",
      "  import sys\n"
     ]
    }
   ],
   "source": [
    "# Splitting and scaling\n",
    "\n",
    "X_train, X_test, y_train, y_test = train_test_split(X,y,random_state=42, stratify=y)\n",
    "\n",
    "ss = StandardScaler()\n",
    "X_train_s = ss.fit_transform(X_train)\n",
    "X_test_s = ss.transform(X_test)"
   ]
  },
  {
   "cell_type": "code",
   "execution_count": 8,
   "metadata": {},
   "outputs": [
    {
     "data": {
      "text/plain": [
       "139     2\n",
       "5010    3\n",
       "3969    4\n",
       "2053    4\n",
       "6189    3\n",
       "Name: quality, dtype: int64"
      ]
     },
     "execution_count": 8,
     "metadata": {},
     "output_type": "execute_result"
    }
   ],
   "source": [
    "y_train[:5]"
   ]
  },
  {
   "cell_type": "code",
   "execution_count": 9,
   "metadata": {},
   "outputs": [],
   "source": [
    "# Encoding our target\n",
    "\n",
    "y_train = to_categorical(y_train) #run only once"
   ]
  },
  {
   "cell_type": "code",
   "execution_count": 10,
   "metadata": {},
   "outputs": [
    {
     "data": {
      "text/plain": [
       "array([[0., 0., 1., ..., 0., 0., 0.],\n",
       "       [0., 0., 0., ..., 0., 0., 0.],\n",
       "       [0., 0., 0., ..., 1., 0., 0.],\n",
       "       ...,\n",
       "       [0., 0., 0., ..., 1., 0., 0.],\n",
       "       [0., 0., 0., ..., 0., 0., 0.],\n",
       "       [0., 0., 0., ..., 0., 0., 0.]], dtype=float32)"
      ]
     },
     "execution_count": 10,
     "metadata": {},
     "output_type": "execute_result"
    }
   ],
   "source": [
    "y_train"
   ]
  },
  {
   "cell_type": "code",
   "execution_count": 11,
   "metadata": {},
   "outputs": [],
   "source": [
    "y_test = to_categorical(y_test) #run only once"
   ]
  },
  {
   "cell_type": "code",
   "execution_count": 12,
   "metadata": {},
   "outputs": [],
   "source": [
    "# Constructing our model\n",
    "\n",
    "model = Sequential()\n",
    "n_input = X_train_s.shape[1]\n",
    "n_hidden = n_input\n",
    "\n",
    "model.add(Dense(n_hidden, input_dim=n_input, activation='relu'))\n",
    "\n",
    "# We want to predict probabilities, so we'll use a softmax activation\n",
    "#7 neurons because of the 7 quality types\n",
    "model.add(Dense(7, activation='softmax'))"
   ]
  },
  {
   "cell_type": "code",
   "execution_count": 13,
   "metadata": {},
   "outputs": [],
   "source": [
    "# Compiling: \n",
    "# Taking model that was just built, and state loss function, optimizer, and metrics BEFORE fit\n",
    "\n",
    "# We want to use categorical crossentropy as our optimizer\n",
    "\n",
    "model.compile(loss='categorical_crossentropy', optimizer='adam', metrics=['acc']) "
   ]
  },
  {
   "cell_type": "code",
   "execution_count": 14,
   "metadata": {
    "scrolled": true
   },
   "outputs": [
    {
     "name": "stdout",
     "output_type": "stream",
     "text": [
      "Train on 4872 samples, validate on 1625 samples\n",
      "Epoch 1/42\n",
      "4872/4872 [==============================] - 1s 138us/step - loss: 1.8758 - acc: 0.3044 - val_loss: 1.5648 - val_acc: 0.4277\n",
      "Epoch 2/42\n",
      "4872/4872 [==============================] - 0s 78us/step - loss: 1.4126 - acc: 0.4702 - val_loss: 1.3276 - val_acc: 0.4812\n",
      "Epoch 3/42\n",
      "4872/4872 [==============================] - 0s 81us/step - loss: 1.2562 - acc: 0.4918 - val_loss: 1.2349 - val_acc: 0.5095\n",
      "Epoch 4/42\n",
      "4872/4872 [==============================] - 1s 158us/step - loss: 1.1893 - acc: 0.5121 - val_loss: 1.1930 - val_acc: 0.5218\n",
      "Epoch 5/42\n",
      "4872/4872 [==============================] - 0s 75us/step - loss: 1.1523 - acc: 0.5300 - val_loss: 1.1702 - val_acc: 0.5262\n",
      "Epoch 6/42\n",
      "4872/4872 [==============================] - 0s 54us/step - loss: 1.1282 - acc: 0.5384 - val_loss: 1.1537 - val_acc: 0.5243\n",
      "Epoch 7/42\n",
      "4872/4872 [==============================] - 0s 63us/step - loss: 1.1124 - acc: 0.5462 - val_loss: 1.1418 - val_acc: 0.5335\n",
      "Epoch 8/42\n",
      "4872/4872 [==============================] - 0s 57us/step - loss: 1.1005 - acc: 0.5464 - val_loss: 1.1320 - val_acc: 0.5385\n",
      "Epoch 9/42\n",
      "4872/4872 [==============================] - 0s 66us/step - loss: 1.0918 - acc: 0.5515 - val_loss: 1.1236 - val_acc: 0.5415\n",
      "Epoch 10/42\n",
      "4872/4872 [==============================] - 0s 67us/step - loss: 1.0840 - acc: 0.5534 - val_loss: 1.1190 - val_acc: 0.5378\n",
      "Epoch 11/42\n",
      "4872/4872 [==============================] - 0s 55us/step - loss: 1.0781 - acc: 0.5544 - val_loss: 1.1126 - val_acc: 0.5366\n",
      "Epoch 12/42\n",
      "4872/4872 [==============================] - 0s 61us/step - loss: 1.0713 - acc: 0.5560 - val_loss: 1.1074 - val_acc: 0.5471\n",
      "Epoch 13/42\n",
      "4872/4872 [==============================] - 0s 68us/step - loss: 1.0665 - acc: 0.5608 - val_loss: 1.1066 - val_acc: 0.5329\n",
      "Epoch 14/42\n",
      "4872/4872 [==============================] - 0s 56us/step - loss: 1.0621 - acc: 0.5595 - val_loss: 1.0992 - val_acc: 0.5391\n",
      "Epoch 15/42\n",
      "4872/4872 [==============================] - 0s 57us/step - loss: 1.0588 - acc: 0.5642 - val_loss: 1.0967 - val_acc: 0.5391\n",
      "Epoch 16/42\n",
      "4872/4872 [==============================] - 0s 54us/step - loss: 1.0557 - acc: 0.5647 - val_loss: 1.0935 - val_acc: 0.5409\n",
      "Epoch 17/42\n",
      "4872/4872 [==============================] - 0s 69us/step - loss: 1.0525 - acc: 0.5638 - val_loss: 1.0908 - val_acc: 0.5483\n",
      "Epoch 18/42\n",
      "4872/4872 [==============================] - 0s 64us/step - loss: 1.0505 - acc: 0.5657 - val_loss: 1.0892 - val_acc: 0.5409\n",
      "Epoch 19/42\n",
      "4872/4872 [==============================] - 0s 57us/step - loss: 1.0481 - acc: 0.5698 - val_loss: 1.0868 - val_acc: 0.5397\n",
      "Epoch 20/42\n",
      "4872/4872 [==============================] - 0s 63us/step - loss: 1.0462 - acc: 0.5640 - val_loss: 1.0850 - val_acc: 0.5446\n",
      "Epoch 21/42\n",
      "4872/4872 [==============================] - 0s 80us/step - loss: 1.0437 - acc: 0.5663 - val_loss: 1.0829 - val_acc: 0.5409\n",
      "Epoch 22/42\n",
      "4872/4872 [==============================] - 0s 71us/step - loss: 1.0435 - acc: 0.5651 - val_loss: 1.0823 - val_acc: 0.5446\n",
      "Epoch 23/42\n",
      "4872/4872 [==============================] - 0s 75us/step - loss: 1.0415 - acc: 0.5681 - val_loss: 1.0809 - val_acc: 0.5378\n",
      "Epoch 24/42\n",
      "4872/4872 [==============================] - 0s 88us/step - loss: 1.0396 - acc: 0.5669 - val_loss: 1.0782 - val_acc: 0.5428\n",
      "Epoch 25/42\n",
      "4872/4872 [==============================] - 0s 76us/step - loss: 1.0390 - acc: 0.5647 - val_loss: 1.0779 - val_acc: 0.5415\n",
      "Epoch 26/42\n",
      "4872/4872 [==============================] - 0s 62us/step - loss: 1.0372 - acc: 0.5686 - val_loss: 1.0769 - val_acc: 0.5415\n",
      "Epoch 27/42\n",
      "4872/4872 [==============================] - 0s 74us/step - loss: 1.0367 - acc: 0.5675 - val_loss: 1.0745 - val_acc: 0.5471\n",
      "Epoch 28/42\n",
      "4872/4872 [==============================] - 0s 93us/step - loss: 1.0350 - acc: 0.5665 - val_loss: 1.0749 - val_acc: 0.5458\n",
      "Epoch 29/42\n",
      "4872/4872 [==============================] - 0s 58us/step - loss: 1.0340 - acc: 0.5700 - val_loss: 1.0740 - val_acc: 0.5378\n",
      "Epoch 30/42\n",
      "4872/4872 [==============================] - 0s 66us/step - loss: 1.0331 - acc: 0.5677 - val_loss: 1.0725 - val_acc: 0.5446\n",
      "Epoch 31/42\n",
      "4872/4872 [==============================] - 0s 67us/step - loss: 1.0327 - acc: 0.5642 - val_loss: 1.0728 - val_acc: 0.5458\n",
      "Epoch 32/42\n",
      "4872/4872 [==============================] - 0s 80us/step - loss: 1.0316 - acc: 0.5669 - val_loss: 1.0722 - val_acc: 0.5403\n",
      "Epoch 33/42\n",
      "4872/4872 [==============================] - 0s 78us/step - loss: 1.0302 - acc: 0.5671 - val_loss: 1.0725 - val_acc: 0.5335\n",
      "Epoch 34/42\n",
      "4872/4872 [==============================] - 0s 70us/step - loss: 1.0295 - acc: 0.5681 - val_loss: 1.0725 - val_acc: 0.5452\n",
      "Epoch 35/42\n",
      "4872/4872 [==============================] - 0s 96us/step - loss: 1.0300 - acc: 0.5714 - val_loss: 1.0689 - val_acc: 0.5495\n",
      "Epoch 36/42\n",
      "4872/4872 [==============================] - 1s 112us/step - loss: 1.0282 - acc: 0.5694 - val_loss: 1.0692 - val_acc: 0.5372\n",
      "Epoch 37/42\n",
      "4872/4872 [==============================] - 0s 68us/step - loss: 1.0280 - acc: 0.5694 - val_loss: 1.0688 - val_acc: 0.5471\n",
      "Epoch 38/42\n",
      "4872/4872 [==============================] - 0s 56us/step - loss: 1.0266 - acc: 0.5706 - val_loss: 1.0685 - val_acc: 0.5446\n",
      "Epoch 39/42\n",
      "4872/4872 [==============================] - 0s 61us/step - loss: 1.0261 - acc: 0.5669 - val_loss: 1.0682 - val_acc: 0.5397\n",
      "Epoch 40/42\n",
      "4872/4872 [==============================] - 0s 58us/step - loss: 1.0257 - acc: 0.5716 - val_loss: 1.0665 - val_acc: 0.5458\n",
      "Epoch 41/42\n",
      "4872/4872 [==============================] - 0s 63us/step - loss: 1.0251 - acc: 0.5696 - val_loss: 1.0670 - val_acc: 0.5323\n",
      "Epoch 42/42\n",
      "4872/4872 [==============================] - 0s 56us/step - loss: 1.0252 - acc: 0.5704 - val_loss: 1.0655 - val_acc: 0.5440\n"
     ]
    }
   ],
   "source": [
    "# Fitting and saving the history log\n",
    "\n",
    "history_log = model.fit(X_train_s, y_train, \n",
    "                        validation_data=(X_test_s, y_test), \n",
    "                        epochs=42, batch_size=None) \n"
   ]
  },
  {
   "cell_type": "code",
   "execution_count": 15,
   "metadata": {},
   "outputs": [
    {
     "name": "stdout",
     "output_type": "stream",
     "text": [
      "[array([[ 0.1617428 , -0.51237345,  0.10222707, -0.45618522,  0.3477024 ,\n",
      "         0.16189064,  0.48079967, -0.02230092, -0.20138855, -0.23320821,\n",
      "         0.34446815, -0.3981036 ],\n",
      "       [-0.10967002,  0.07365294, -0.25677976,  0.06033879,  0.14416039,\n",
      "        -0.17235203,  0.23881349, -0.25837407, -0.8148812 ,  0.53095937,\n",
      "        -0.29507655, -0.05594992],\n",
      "       [-0.16103622, -0.19217397,  0.04254761,  0.02799624,  0.1125617 ,\n",
      "        -0.10208945, -0.07176718, -0.27512974, -0.15515412,  0.31141213,\n",
      "        -0.05445269,  0.325352  ],\n",
      "       [-0.40815476, -0.8899685 ,  0.2639596 , -0.46320015,  0.17019764,\n",
      "        -0.47961888, -0.64264506, -0.42063642,  0.4928826 ,  0.3907708 ,\n",
      "        -0.5870757 , -0.32811317],\n",
      "       [-0.12559956, -0.3197043 , -0.04012327, -0.3845276 , -0.2605967 ,\n",
      "         0.27595434, -0.1209896 , -0.03239477, -0.617146  ,  0.25824913,\n",
      "        -0.00127827,  0.26222095],\n",
      "       [ 0.10335086,  0.0985195 ,  0.30656645,  0.2943049 ,  0.00164214,\n",
      "         0.40364373, -0.94793034, -0.10834137,  0.18372609,  0.33379632,\n",
      "        -0.08486702, -0.09148911],\n",
      "       [-0.29862908,  0.19035769, -0.33816895, -0.33296198,  0.21555449,\n",
      "        -0.6037575 , -0.41417244, -0.6766754 ,  0.1664019 ,  0.46668172,\n",
      "        -0.10789998,  0.01100872],\n",
      "       [-0.03168939,  0.45726818, -0.35006762, -0.23176228,  0.24532281,\n",
      "         0.46102047,  0.45266837, -0.5056838 , -0.30506444,  0.31069577,\n",
      "         0.30468583, -0.13608134],\n",
      "       [ 0.0049011 , -0.1952337 ,  0.23936084,  0.18469831,  0.5231157 ,\n",
      "         0.36129716, -0.06152707, -0.47793683, -0.05905416,  0.52086484,\n",
      "        -0.09828904, -0.03584853],\n",
      "       [ 0.20337358, -0.46970016,  0.46262658, -0.20980392,  0.49020123,\n",
      "        -0.31910473, -0.36403573,  0.01320771, -0.21578583,  0.37609065,\n",
      "         0.15064168,  0.3422459 ],\n",
      "       [ 0.2193488 , -0.27316988,  0.0996571 ,  0.5616164 ,  0.28374293,\n",
      "        -0.01639246, -0.07817346, -0.36715922,  0.3999903 , -0.47705966,\n",
      "         0.2176164 , -0.10330383],\n",
      "       [ 0.52215993,  0.51954347, -0.03428938, -0.23942815, -0.2610422 ,\n",
      "         0.34847772, -0.9546975 ,  0.51452875, -0.01453888,  0.3503572 ,\n",
      "         0.41362447, -0.92121285]], dtype=float32), array([-0.2714313 ,  0.25977623, -0.10095686,  0.2225944 ,  0.16896535,\n",
      "        0.09707545,  0.14231712,  0.4887046 ,  0.6979881 ,  0.4968074 ,\n",
      "        0.13798325,  0.497323  ], dtype=float32)]\n",
      "[array([[-0.5763943 , -0.6344227 , -0.5178015 ,  0.6103152 , -0.11745188,\n",
      "         0.39672118,  0.15764688],\n",
      "       [-0.18000169,  0.24565744,  1.0085545 ,  0.01179067, -0.7037526 ,\n",
      "        -1.1667722 , -0.6645658 ],\n",
      "       [ 0.10552831, -0.43456253, -0.33065176, -0.5507449 ,  0.53352493,\n",
      "         0.5551728 ,  0.42910403],\n",
      "       [-0.27052942,  0.07163007, -0.48006403, -0.2623712 ,  0.37754503,\n",
      "         0.51530814, -0.21620136],\n",
      "       [-0.7397989 ,  0.22238074, -0.47822273,  0.26912954,  0.24909632,\n",
      "         0.37753955, -0.21983841],\n",
      "       [ 0.4220343 ,  0.05505225, -0.0918219 ,  0.46341357,  0.2878379 ,\n",
      "        -0.56731546, -0.07456888],\n",
      "       [ 0.5883161 ,  0.8171979 ,  0.4139819 , -0.06407509, -0.3525553 ,\n",
      "        -0.5386442 , -0.54857516],\n",
      "       [-0.39300567,  0.26268688,  0.06499989,  0.32809088,  0.16272463,\n",
      "        -0.2026198 , -1.3239312 ],\n",
      "       [-0.8683554 , -1.3066094 , -0.11773752,  0.49596086,  0.28379002,\n",
      "         0.1098289 , -0.6260464 ],\n",
      "       [ 0.24775673,  0.30588394,  0.7609751 ,  0.15926786, -0.26623842,\n",
      "        -0.6607094 , -1.5208303 ],\n",
      "       [-0.25649837, -0.90066916,  0.49248523, -0.09132412,  0.47961718,\n",
      "        -0.09184094, -0.23771538],\n",
      "       [-0.66345507, -0.19157746,  0.28272283,  0.6045077 , -0.0209638 ,\n",
      "        -0.5153822 , -0.77806765]], dtype=float32), array([-0.8170545 , -0.12233628,  0.396785  ,  0.34772608,  0.05471381,\n",
      "       -0.42291236, -0.61930126], dtype=float32)]\n"
     ]
    }
   ],
   "source": [
    "# Extracting weights\n",
    "\n",
    "for layer in model.layers:\n",
    "    print(layer.get_weights())"
   ]
  },
  {
   "cell_type": "code",
   "execution_count": 16,
   "metadata": {},
   "outputs": [
    {
     "data": {
      "text/plain": [
       "array([[0.  , 0.  , 0.99, 0.01, 0.  , 0.  , 0.  ],\n",
       "       [0.01, 0.04, 0.68, 0.23, 0.03, 0.  , 0.  ],\n",
       "       [0.01, 0.02, 0.32, 0.58, 0.07, 0.  , 0.  ],\n",
       "       [0.  , 0.  , 0.18, 0.56, 0.23, 0.02, 0.  ],\n",
       "       [0.01, 0.01, 0.19, 0.58, 0.21, 0.  , 0.  ]], dtype=float32)"
      ]
     },
     "execution_count": 16,
     "metadata": {},
     "output_type": "execute_result"
    }
   ],
   "source": [
    "# Predicting on some test data\n",
    "\n",
    "model.predict(X_test_s[:5]).round(decimals=2) #each row should sum to 1.0 given softmax"
   ]
  },
  {
   "cell_type": "code",
   "execution_count": 17,
   "metadata": {},
   "outputs": [
    {
     "data": {
      "text/plain": [
       "array([2, 2, 3, 3, 3])"
      ]
     },
     "execution_count": 17,
     "metadata": {},
     "output_type": "execute_result"
    }
   ],
   "source": [
    "model.predict_classes(X_test_s[:5])"
   ]
  },
  {
   "cell_type": "code",
   "execution_count": 18,
   "metadata": {},
   "outputs": [
    {
     "data": {
      "text/plain": [
       "array([[0., 1., 0., 0., 0., 0., 0.],\n",
       "       [0., 0., 1., 0., 0., 0., 0.],\n",
       "       [0., 0., 0., 1., 0., 0., 0.],\n",
       "       [0., 0., 0., 1., 0., 0., 0.],\n",
       "       [0., 0., 0., 0., 0., 1., 0.]], dtype=float32)"
      ]
     },
     "execution_count": 18,
     "metadata": {},
     "output_type": "execute_result"
    }
   ],
   "source": [
    "# Comparing with reality\n",
    "\n",
    "y_test[:5] \n",
    "#model predictions almost sort of match up with up with actual reality"
   ]
  },
  {
   "cell_type": "code",
   "execution_count": 19,
   "metadata": {},
   "outputs": [
    {
     "data": {
      "image/png": "[encoded data removed]",
      "text/plain": [
       "<Figure size 432x288 with 1 Axes>"
      ]
     },
     "metadata": {
      "needs_background": "light"
     },
     "output_type": "display_data"
    }
   ],
   "source": [
    "# Plotting\n",
    "\n",
    "plt.plot(history_log.history['loss'], label = 'train loss')\n",
    "plt.plot(history_log.history['val_loss'], label = 'test loss')\n",
    "plt.legend();"
   ]
  },
  {
   "cell_type": "markdown",
   "metadata": {},
   "source": [
    "- test loss begins to plateau with 42 epochs\n",
    "- Let's see if kera.regularizers (Regularization) can help improve our model a bit"
   ]
  },
  {
   "cell_type": "markdown",
   "metadata": {},
   "source": [
    "## Adding Regularization"
   ]
  },
  {
   "cell_type": "code",
   "execution_count": 20,
   "metadata": {},
   "outputs": [
    {
     "name": "stdout",
     "output_type": "stream",
     "text": [
      "Train on 4872 samples, validate on 1625 samples\n",
      "Epoch 1/42\n",
      "4872/4872 [==============================] - 0s 100us/step - loss: 2.0110 - acc: 0.3596 - val_loss: 1.6954 - val_acc: 0.4757\n",
      "Epoch 2/42\n",
      "4872/4872 [==============================] - 0s 62us/step - loss: 1.5629 - acc: 0.5051 - val_loss: 1.4870 - val_acc: 0.5145\n",
      "Epoch 3/42\n",
      "4872/4872 [==============================] - 0s 63us/step - loss: 1.4223 - acc: 0.5172 - val_loss: 1.3903 - val_acc: 0.5194\n",
      "Epoch 4/42\n",
      "4872/4872 [==============================] - 0s 55us/step - loss: 1.3468 - acc: 0.5248 - val_loss: 1.3296 - val_acc: 0.5218\n",
      "Epoch 5/42\n",
      "4872/4872 [==============================] - 0s 58us/step - loss: 1.2965 - acc: 0.5283 - val_loss: 1.2876 - val_acc: 0.5237\n",
      "Epoch 6/42\n",
      "4872/4872 [==============================] - 0s 60us/step - loss: 1.2625 - acc: 0.5363 - val_loss: 1.2593 - val_acc: 0.5218\n",
      "Epoch 7/42\n",
      "4872/4872 [==============================] - 0s 58us/step - loss: 1.2374 - acc: 0.5394 - val_loss: 1.2387 - val_acc: 0.5255\n",
      "Epoch 8/42\n",
      "4872/4872 [==============================] - 0s 58us/step - loss: 1.2187 - acc: 0.5437 - val_loss: 1.2214 - val_acc: 0.5280\n",
      "Epoch 9/42\n",
      "4872/4872 [==============================] - 0s 56us/step - loss: 1.2045 - acc: 0.5470 - val_loss: 1.2096 - val_acc: 0.5348\n",
      "Epoch 10/42\n",
      "4872/4872 [==============================] - 0s 56us/step - loss: 1.1928 - acc: 0.5493 - val_loss: 1.1993 - val_acc: 0.5409\n",
      "Epoch 11/42\n",
      "4872/4872 [==============================] - 0s 58us/step - loss: 1.1839 - acc: 0.5493 - val_loss: 1.1902 - val_acc: 0.5409\n",
      "Epoch 12/42\n",
      "4872/4872 [==============================] - 0s 57us/step - loss: 1.1766 - acc: 0.5513 - val_loss: 1.1836 - val_acc: 0.5372\n",
      "Epoch 13/42\n",
      "4872/4872 [==============================] - 0s 61us/step - loss: 1.1706 - acc: 0.5523 - val_loss: 1.1781 - val_acc: 0.5385\n",
      "Epoch 14/42\n",
      "4872/4872 [==============================] - 0s 57us/step - loss: 1.1655 - acc: 0.5528 - val_loss: 1.1738 - val_acc: 0.5440\n",
      "Epoch 15/42\n",
      "4872/4872 [==============================] - 0s 57us/step - loss: 1.1615 - acc: 0.5517 - val_loss: 1.1701 - val_acc: 0.5366\n",
      "Epoch 16/42\n",
      "4872/4872 [==============================] - 0s 57us/step - loss: 1.1577 - acc: 0.5532 - val_loss: 1.1648 - val_acc: 0.5397\n",
      "Epoch 17/42\n",
      "4872/4872 [==============================] - 0s 56us/step - loss: 1.1549 - acc: 0.5544 - val_loss: 1.1632 - val_acc: 0.5409\n",
      "Epoch 18/42\n",
      "4872/4872 [==============================] - 0s 60us/step - loss: 1.1527 - acc: 0.5554 - val_loss: 1.1606 - val_acc: 0.5329\n",
      "Epoch 19/42\n",
      "4872/4872 [==============================] - 0s 57us/step - loss: 1.1503 - acc: 0.5538 - val_loss: 1.1588 - val_acc: 0.5391\n",
      "Epoch 20/42\n",
      "4872/4872 [==============================] - 0s 57us/step - loss: 1.1487 - acc: 0.5581 - val_loss: 1.1575 - val_acc: 0.5342\n",
      "Epoch 21/42\n",
      "4872/4872 [==============================] - 0s 58us/step - loss: 1.1470 - acc: 0.5552 - val_loss: 1.1558 - val_acc: 0.5366\n",
      "Epoch 22/42\n",
      "4872/4872 [==============================] - 0s 57us/step - loss: 1.1453 - acc: 0.5569 - val_loss: 1.1540 - val_acc: 0.5360\n",
      "Epoch 23/42\n",
      "4872/4872 [==============================] - 0s 57us/step - loss: 1.1447 - acc: 0.5542 - val_loss: 1.1528 - val_acc: 0.5403\n",
      "Epoch 24/42\n",
      "4872/4872 [==============================] - 0s 60us/step - loss: 1.1431 - acc: 0.5542 - val_loss: 1.1509 - val_acc: 0.5409\n",
      "Epoch 25/42\n",
      "4872/4872 [==============================] - 0s 58us/step - loss: 1.1422 - acc: 0.5505 - val_loss: 1.1497 - val_acc: 0.5391\n",
      "Epoch 26/42\n",
      "4872/4872 [==============================] - 0s 61us/step - loss: 1.1409 - acc: 0.5548 - val_loss: 1.1482 - val_acc: 0.5366\n",
      "Epoch 27/42\n",
      "4872/4872 [==============================] - 0s 55us/step - loss: 1.1402 - acc: 0.5560 - val_loss: 1.1501 - val_acc: 0.5415\n",
      "Epoch 28/42\n",
      "4872/4872 [==============================] - 0s 56us/step - loss: 1.1396 - acc: 0.5509 - val_loss: 1.1473 - val_acc: 0.5397\n",
      "Epoch 29/42\n",
      "4872/4872 [==============================] - 0s 56us/step - loss: 1.1392 - acc: 0.5556 - val_loss: 1.1480 - val_acc: 0.5415\n",
      "Epoch 30/42\n",
      "4872/4872 [==============================] - 0s 55us/step - loss: 1.1380 - acc: 0.5519 - val_loss: 1.1465 - val_acc: 0.5366\n",
      "Epoch 31/42\n",
      "4872/4872 [==============================] - 0s 56us/step - loss: 1.1375 - acc: 0.5521 - val_loss: 1.1474 - val_acc: 0.5415\n",
      "Epoch 32/42\n",
      "4872/4872 [==============================] - 0s 56us/step - loss: 1.1368 - acc: 0.5530 - val_loss: 1.1446 - val_acc: 0.5366\n",
      "Epoch 33/42\n",
      "4872/4872 [==============================] - 0s 57us/step - loss: 1.1362 - acc: 0.5546 - val_loss: 1.1451 - val_acc: 0.5403\n",
      "Epoch 34/42\n",
      "4872/4872 [==============================] - 0s 64us/step - loss: 1.1361 - acc: 0.5521 - val_loss: 1.1444 - val_acc: 0.5434\n",
      "Epoch 35/42\n",
      "4872/4872 [==============================] - 0s 74us/step - loss: 1.1358 - acc: 0.5509 - val_loss: 1.1451 - val_acc: 0.5372\n",
      "Epoch 36/42\n",
      "4872/4872 [==============================] - 0s 86us/step - loss: 1.1351 - acc: 0.5489 - val_loss: 1.1444 - val_acc: 0.5409\n",
      "Epoch 37/42\n",
      "4872/4872 [==============================] - 0s 64us/step - loss: 1.1347 - acc: 0.5536 - val_loss: 1.1438 - val_acc: 0.5391\n",
      "Epoch 38/42\n",
      "4872/4872 [==============================] - 0s 67us/step - loss: 1.1338 - acc: 0.5472 - val_loss: 1.1420 - val_acc: 0.5385\n",
      "Epoch 39/42\n",
      "4872/4872 [==============================] - 0s 57us/step - loss: 1.1336 - acc: 0.5505 - val_loss: 1.1423 - val_acc: 0.5385\n",
      "Epoch 40/42\n",
      "4872/4872 [==============================] - 0s 84us/step - loss: 1.1331 - acc: 0.5562 - val_loss: 1.1421 - val_acc: 0.5409\n",
      "Epoch 41/42\n",
      "4872/4872 [==============================] - 0s 55us/step - loss: 1.1327 - acc: 0.5534 - val_loss: 1.1408 - val_acc: 0.5385\n",
      "Epoch 42/42\n",
      "4872/4872 [==============================] - 0s 68us/step - loss: 1.1328 - acc: 0.5515 - val_loss: 1.1406 - val_acc: 0.5372\n"
     ]
    }
   ],
   "source": [
    "from keras import regularizers\n",
    "\n",
    "model_r = Sequential()\n",
    "\n",
    "n_input = X_train_s.shape[1]\n",
    "n_hidden = n_input\n",
    "\n",
    "model_r.add(Dense(n_hidden, input_dim=n_input, activation='relu',\n",
    "                 kernel_regularizer=regularizers.l2(0.01))) #add L2 regularizer (L1-L2 ratio: 0.01: 0.99)\n",
    "model_r.add(Dense(7, activation='softmax',\n",
    "                 kernel_regularizer=regularizers.l2(0.01))) #add L2 regularizer (L1-L2 ratio: 0.01: 0.99)\n",
    "\n",
    "model_r.compile(loss='categorical_crossentropy', optimizer='adam', metrics=['acc'])\n",
    "\n",
    "history_r = model_r.fit(X_train_s, y_train, validation_data=(X_test_s, y_test),\n",
    "                       epochs=42, batch_size=None)"
   ]
  },
  {
   "cell_type": "code",
   "execution_count": 21,
   "metadata": {},
   "outputs": [
    {
     "data": {
      "image/png": "[encoded data removed]",
      "text/plain": [
       "<Figure size 432x288 with 1 Axes>"
      ]
     },
     "metadata": {
      "needs_background": "light"
     },
     "output_type": "display_data"
    }
   ],
   "source": [
    "plt.plot(history_r.history['loss'], label='Training loss')\n",
    "plt.plot(history_r.history['val_loss'], label='Testing loss')\n",
    "plt.legend();"
   ]
  },
  {
   "cell_type": "markdown",
   "metadata": {},
   "source": [
    "### Dropout"
   ]
  },
  {
   "cell_type": "markdown",
   "metadata": {},
   "source": [
    "Here's a new regularization idea: Turn some neurons off during training. We'll assign probabilities of 'dropout' and then let fate decide.\n",
    "\n",
    "$\\rightarrow$ Why is this a good idea? *Is* it a good idea?\n",
    "\n",
    "Was this sort of regularization available to us before? Why (not)?"
   ]
  },
  {
   "cell_type": "markdown",
   "metadata": {},
   "source": [
    "- this was never available us before\n",
    "- in linear regression, you're either using the feature or not"
   ]
  },
  {
   "cell_type": "code",
   "execution_count": 22,
   "metadata": {},
   "outputs": [],
   "source": [
    "from keras.layers import Dropout\n",
    "#TRYING TO NOT LET IT GET TOO CAUGHT UP ON ANY ONE FEATURE\n",
    "#RANDOMIZES WHICH NEURONS TO TURN OFF EVERY EPOCH\n",
    "\n",
    "model_d = Sequential()\n",
    "\n",
    "n_input = X_train_s.shape[1]\n",
    "n_hidden = n_input"
   ]
  },
  {
   "cell_type": "code",
   "execution_count": 23,
   "metadata": {
    "scrolled": true
   },
   "outputs": [
    {
     "name": "stdout",
     "output_type": "stream",
     "text": [
      "Train on 4872 samples, validate on 1625 samples\n",
      "Epoch 1/42\n",
      "4872/4872 [==============================] - 1s 120us/step - loss: 1.9762 - acc: 0.2826 - val_loss: 1.6019 - val_acc: 0.4283\n",
      "Epoch 2/42\n",
      "4872/4872 [==============================] - 0s 95us/step - loss: 1.5172 - acc: 0.4269 - val_loss: 1.3672 - val_acc: 0.4818\n",
      "Epoch 3/42\n",
      "4872/4872 [==============================] - 0s 80us/step - loss: 1.3453 - acc: 0.4748 - val_loss: 1.2610 - val_acc: 0.5182\n",
      "Epoch 4/42\n",
      "4872/4872 [==============================] - 0s 78us/step - loss: 1.2731 - acc: 0.4871 - val_loss: 1.2076 - val_acc: 0.5286\n",
      "Epoch 5/42\n",
      "4872/4872 [==============================] - 0s 76us/step - loss: 1.2269 - acc: 0.4992 - val_loss: 1.1737 - val_acc: 0.5317\n",
      "Epoch 6/42\n",
      "4872/4872 [==============================] - 0s 73us/step - loss: 1.1971 - acc: 0.5150 - val_loss: 1.1488 - val_acc: 0.5298\n",
      "Epoch 7/42\n",
      "4872/4872 [==============================] - 0s 72us/step - loss: 1.1721 - acc: 0.5244 - val_loss: 1.1312 - val_acc: 0.5360\n",
      "Epoch 8/42\n",
      "4872/4872 [==============================] - 0s 64us/step - loss: 1.1463 - acc: 0.5279 - val_loss: 1.1187 - val_acc: 0.5329\n",
      "Epoch 9/42\n",
      "4872/4872 [==============================] - 0s 58us/step - loss: 1.1407 - acc: 0.5347 - val_loss: 1.1101 - val_acc: 0.5329\n",
      "Epoch 10/42\n",
      "4872/4872 [==============================] - 0s 58us/step - loss: 1.1241 - acc: 0.5326 - val_loss: 1.1037 - val_acc: 0.5366\n",
      "Epoch 11/42\n",
      "4872/4872 [==============================] - 0s 58us/step - loss: 1.1176 - acc: 0.5396 - val_loss: 1.0985 - val_acc: 0.5372\n",
      "Epoch 12/42\n",
      "4872/4872 [==============================] - 0s 58us/step - loss: 1.1096 - acc: 0.5464 - val_loss: 1.0946 - val_acc: 0.5323\n",
      "Epoch 13/42\n",
      "4872/4872 [==============================] - 0s 63us/step - loss: 1.1033 - acc: 0.5466 - val_loss: 1.0917 - val_acc: 0.5348\n",
      "Epoch 14/42\n",
      "4872/4872 [==============================] - 0s 57us/step - loss: 1.1040 - acc: 0.5447 - val_loss: 1.0882 - val_acc: 0.5329\n",
      "Epoch 15/42\n",
      "4872/4872 [==============================] - 0s 61us/step - loss: 1.0968 - acc: 0.5396 - val_loss: 1.0856 - val_acc: 0.5391\n",
      "Epoch 16/42\n",
      "4872/4872 [==============================] - 0s 57us/step - loss: 1.1088 - acc: 0.5269 - val_loss: 1.0850 - val_acc: 0.5354\n",
      "Epoch 17/42\n",
      "4872/4872 [==============================] - 0s 58us/step - loss: 1.0941 - acc: 0.5437 - val_loss: 1.0826 - val_acc: 0.5403\n",
      "Epoch 18/42\n",
      "4872/4872 [==============================] - 0s 61us/step - loss: 1.0897 - acc: 0.5372 - val_loss: 1.0817 - val_acc: 0.5348\n",
      "Epoch 19/42\n",
      "4872/4872 [==============================] - 0s 56us/step - loss: 1.0876 - acc: 0.5493 - val_loss: 1.0790 - val_acc: 0.5397\n",
      "Epoch 20/42\n",
      "4872/4872 [==============================] - 0s 63us/step - loss: 1.0905 - acc: 0.5433 - val_loss: 1.0783 - val_acc: 0.5335\n",
      "Epoch 21/42\n",
      "4872/4872 [==============================] - 0s 56us/step - loss: 1.0910 - acc: 0.5398 - val_loss: 1.0764 - val_acc: 0.5372\n",
      "Epoch 22/42\n",
      "4872/4872 [==============================] - 0s 60us/step - loss: 1.0857 - acc: 0.5386 - val_loss: 1.0742 - val_acc: 0.5397\n",
      "Epoch 23/42\n",
      "4872/4872 [==============================] - 0s 56us/step - loss: 1.0795 - acc: 0.5474 - val_loss: 1.0739 - val_acc: 0.5378\n",
      "Epoch 24/42\n",
      "4872/4872 [==============================] - 0s 62us/step - loss: 1.0805 - acc: 0.5480 - val_loss: 1.0720 - val_acc: 0.5397\n",
      "Epoch 25/42\n",
      "4872/4872 [==============================] - 0s 58us/step - loss: 1.0790 - acc: 0.5476 - val_loss: 1.0718 - val_acc: 0.5446\n",
      "Epoch 26/42\n",
      "4872/4872 [==============================] - 0s 63us/step - loss: 1.0779 - acc: 0.5507 - val_loss: 1.0711 - val_acc: 0.5422\n",
      "Epoch 27/42\n",
      "4872/4872 [==============================] - 0s 58us/step - loss: 1.0723 - acc: 0.5499 - val_loss: 1.0692 - val_acc: 0.5508\n",
      "Epoch 28/42\n",
      "4872/4872 [==============================] - 0s 58us/step - loss: 1.0733 - acc: 0.5544 - val_loss: 1.0666 - val_acc: 0.5465\n",
      "Epoch 29/42\n",
      "4872/4872 [==============================] - 0s 60us/step - loss: 1.0831 - acc: 0.5497 - val_loss: 1.0659 - val_acc: 0.5526\n",
      "Epoch 30/42\n",
      "4872/4872 [==============================] - 0s 61us/step - loss: 1.0720 - acc: 0.5577 - val_loss: 1.0657 - val_acc: 0.5483\n",
      "Epoch 31/42\n",
      "4872/4872 [==============================] - 0s 64us/step - loss: 1.0743 - acc: 0.5489 - val_loss: 1.0660 - val_acc: 0.5489\n",
      "Epoch 32/42\n",
      "4872/4872 [==============================] - 0s 62us/step - loss: 1.0724 - acc: 0.5497 - val_loss: 1.0656 - val_acc: 0.5440\n",
      "Epoch 33/42\n",
      "4872/4872 [==============================] - 0s 55us/step - loss: 1.0734 - acc: 0.5447 - val_loss: 1.0643 - val_acc: 0.5489\n",
      "Epoch 34/42\n",
      "4872/4872 [==============================] - 0s 57us/step - loss: 1.0656 - acc: 0.5564 - val_loss: 1.0624 - val_acc: 0.5465\n",
      "Epoch 35/42\n",
      "4872/4872 [==============================] - 0s 59us/step - loss: 1.0692 - acc: 0.5478 - val_loss: 1.0611 - val_acc: 0.5508\n",
      "Epoch 36/42\n",
      "4872/4872 [==============================] - 0s 62us/step - loss: 1.0671 - acc: 0.5577 - val_loss: 1.0608 - val_acc: 0.5458\n",
      "Epoch 37/42\n",
      "4872/4872 [==============================] - 0s 60us/step - loss: 1.0613 - acc: 0.5525 - val_loss: 1.0593 - val_acc: 0.5508\n",
      "Epoch 38/42\n",
      "4872/4872 [==============================] - 0s 62us/step - loss: 1.0719 - acc: 0.5511 - val_loss: 1.0594 - val_acc: 0.5594\n",
      "Epoch 39/42\n",
      "4872/4872 [==============================] - 0s 62us/step - loss: 1.0684 - acc: 0.5507 - val_loss: 1.0588 - val_acc: 0.5477\n",
      "Epoch 40/42\n",
      "4872/4872 [==============================] - 0s 64us/step - loss: 1.0683 - acc: 0.5546 - val_loss: 1.0579 - val_acc: 0.5538\n",
      "Epoch 41/42\n",
      "4872/4872 [==============================] - 0s 68us/step - loss: 1.0627 - acc: 0.5564 - val_loss: 1.0575 - val_acc: 0.5458\n",
      "Epoch 42/42\n",
      "4872/4872 [==============================] - 0s 58us/step - loss: 1.0648 - acc: 0.5513 - val_loss: 1.0581 - val_acc: 0.5440\n"
     ]
    }
   ],
   "source": [
    "model_d.add(Dense(n_hidden, input_dim=n_input, activation='relu'))\n",
    "model_d.add(Dropout(rate=0.2)) #fraction of the input units too drop\n",
    "model_d.add(Dense(7, activation='softmax'))\n",
    "\n",
    "model_d.compile(loss='categorical_crossentropy', optimizer='adam', metrics=['acc'])\n",
    "\n",
    "history_d = model_d.fit(X_train_s, y_train, validation_data=(X_test_s, y_test),\n",
    "                       epochs=42, batch_size=None)"
   ]
  },
  {
   "cell_type": "code",
   "execution_count": 24,
   "metadata": {},
   "outputs": [
    {
     "data": {
      "image/png": "[encoded data removed]",
      "text/plain": [
       "<Figure size 432x288 with 1 Axes>"
      ]
     },
     "metadata": {
      "needs_background": "light"
     },
     "output_type": "display_data"
    }
   ],
   "source": [
    "plt.plot(history_d.history['loss'], label='Training loss')\n",
    "plt.plot(history_d.history['val_loss'], label='Testing loss')\n",
    "plt.legend();"
   ]
  },
  {
   "cell_type": "code",
   "execution_count": 25,
   "metadata": {},
   "outputs": [
    {
     "data": {
      "text/plain": [
       "(0.5513136288998358, 0.5439999997065618)"
      ]
     },
     "execution_count": 25,
     "metadata": {},
     "output_type": "execute_result"
    }
   ],
   "source": [
    "history_d.history['acc'][-1], history_d.history['val_acc'][-1]"
   ]
  },
  {
   "cell_type": "markdown",
   "metadata": {},
   "source": [
    "### Early Stopping"
   ]
  },
  {
   "cell_type": "markdown",
   "metadata": {},
   "source": [
    "Another idea is to try to terminate the training process early, even before some pre-specified number of epochs.\n",
    "\n",
    "$\\rightarrow$ Why is this a good idea? *Is* it a good idea?\n",
    "\n",
    "Was this sort of regularization available to us before? Why (not)?"
   ]
  },
  {
   "cell_type": "markdown",
   "metadata": {},
   "source": [
    "- Helps us to avoid overfitting to training data, especially with MANY epochs\n",
    "- can set this to kick in WHEN THE CHANGE IN THE TESTING LOSS BECOMES REALLY SMALL/PROGRESS BECOMES INSIGNIFICANT"
   ]
  },
  {
   "cell_type": "code",
   "execution_count": 26,
   "metadata": {},
   "outputs": [],
   "source": [
    "from keras.callbacks import EarlyStopping"
   ]
  },
  {
   "cell_type": "code",
   "execution_count": 27,
   "metadata": {},
   "outputs": [
    {
     "name": "stdout",
     "output_type": "stream",
     "text": [
      "Train on 4872 samples, validate on 1625 samples\n",
      "Epoch 1/42\n",
      "4872/4872 [==============================] - 1s 165us/step - loss: 1.8526 - acc: 0.3003 - val_loss: 1.5494 - val_acc: 0.4320\n",
      "Epoch 2/42\n",
      "4872/4872 [==============================] - 0s 101us/step - loss: 1.4025 - acc: 0.4612 - val_loss: 1.3313 - val_acc: 0.4702\n",
      "Epoch 3/42\n",
      "4872/4872 [==============================] - 1s 104us/step - loss: 1.2505 - acc: 0.4865 - val_loss: 1.2358 - val_acc: 0.4831\n",
      "Epoch 4/42\n",
      "4872/4872 [==============================] - 0s 93us/step - loss: 1.1817 - acc: 0.5156 - val_loss: 1.1904 - val_acc: 0.5077\n",
      "Epoch 5/42\n",
      "4872/4872 [==============================] - 0s 79us/step - loss: 1.1461 - acc: 0.5296 - val_loss: 1.1639 - val_acc: 0.5052\n",
      "Epoch 6/42\n",
      "4872/4872 [==============================] - 0s 84us/step - loss: 1.1244 - acc: 0.5341 - val_loss: 1.1485 - val_acc: 0.5169\n",
      "Epoch 7/42\n",
      "4872/4872 [==============================] - 0s 73us/step - loss: 1.1092 - acc: 0.5382 - val_loss: 1.1359 - val_acc: 0.5188\n",
      "Epoch 8/42\n",
      "4872/4872 [==============================] - 0s 81us/step - loss: 1.0986 - acc: 0.5413 - val_loss: 1.1283 - val_acc: 0.5243\n",
      "Epoch 9/42\n",
      "4872/4872 [==============================] - 0s 87us/step - loss: 1.0906 - acc: 0.5452 - val_loss: 1.1223 - val_acc: 0.5175\n",
      "Epoch 10/42\n",
      "4872/4872 [==============================] - 0s 96us/step - loss: 1.0837 - acc: 0.5493 - val_loss: 1.1148 - val_acc: 0.5231\n",
      "Epoch 11/42\n",
      "4872/4872 [==============================] - 0s 89us/step - loss: 1.0777 - acc: 0.5493 - val_loss: 1.1093 - val_acc: 0.5286\n",
      "Epoch 12/42\n",
      "4872/4872 [==============================] - 0s 97us/step - loss: 1.0723 - acc: 0.5534 - val_loss: 1.1054 - val_acc: 0.5311\n",
      "Epoch 13/42\n",
      "4872/4872 [==============================] - 0s 80us/step - loss: 1.0676 - acc: 0.5505 - val_loss: 1.1005 - val_acc: 0.5311\n",
      "Epoch 14/42\n",
      "4872/4872 [==============================] - 0s 89us/step - loss: 1.0643 - acc: 0.5554 - val_loss: 1.0989 - val_acc: 0.5366\n",
      "Epoch 15/42\n",
      "4872/4872 [==============================] - 0s 80us/step - loss: 1.0608 - acc: 0.5530 - val_loss: 1.0954 - val_acc: 0.5354\n",
      "Epoch 16/42\n",
      "4872/4872 [==============================] - 0s 79us/step - loss: 1.0579 - acc: 0.5542 - val_loss: 1.0922 - val_acc: 0.5372\n",
      "Epoch 17/42\n",
      "4872/4872 [==============================] - 0s 78us/step - loss: 1.0557 - acc: 0.5544 - val_loss: 1.0908 - val_acc: 0.5348\n",
      "Epoch 18/42\n",
      "4872/4872 [==============================] - 0s 83us/step - loss: 1.0533 - acc: 0.5532 - val_loss: 1.0886 - val_acc: 0.5335\n",
      "Epoch 19/42\n",
      "4872/4872 [==============================] - 1s 108us/step - loss: 1.0515 - acc: 0.5521 - val_loss: 1.0869 - val_acc: 0.5360\n",
      "Epoch 20/42\n",
      "4872/4872 [==============================] - 0s 91us/step - loss: 1.0490 - acc: 0.5571 - val_loss: 1.0846 - val_acc: 0.5366\n",
      "Epoch 21/42\n",
      "4872/4872 [==============================] - 0s 84us/step - loss: 1.0470 - acc: 0.5562 - val_loss: 1.0816 - val_acc: 0.5385\n",
      "Epoch 22/42\n",
      "4872/4872 [==============================] - 0s 87us/step - loss: 1.0449 - acc: 0.5546 - val_loss: 1.0818 - val_acc: 0.5372\n",
      "Epoch 00022: early stopping\n"
     ]
    }
   ],
   "source": [
    "from keras.callbacks import EarlyStopping\n",
    "\n",
    "model_es = Sequential()\n",
    "\n",
    "n_input = X_train_s.shape[1]\n",
    "n_hidden = n_input\n",
    "\n",
    "model_es.add(Dense(n_hidden, input_dim=n_input, activation='relu'))\n",
    "model_es.add(Dense(7, activation='softmax'))\n",
    "\n",
    "model_es.compile(loss='categorical_crossentropy', optimizer='adam', metrics=['acc'])\n",
    "\n",
    "early_stop = EarlyStopping(monitor='val_loss', min_delta=1e-08, patience=0, verbose=1, mode='auto')\n",
    "#when change gets below min_delta, patience=0 means stop right away\n",
    "#patience > 0 tells it your propensity for epochs without additional progress\n",
    "\n",
    "callbacks_list = [early_stop]\n",
    "\n",
    "history_es = model_es.fit(X_train_s, y_train, validation_data=(X_test_s, y_test),\n",
    "                         epochs=42, batch_size=None, callbacks=callbacks_list)"
   ]
  },
  {
   "cell_type": "code",
   "execution_count": 28,
   "metadata": {},
   "outputs": [
    {
     "data": {
      "image/png": "[encoded data removed]",
      "text/plain": [
       "<Figure size 432x288 with 1 Axes>"
      ]
     },
     "metadata": {
      "needs_background": "light"
     },
     "output_type": "display_data"
    }
   ],
   "source": [
    "plt.plot(history_es.history['loss'], label='Training loss')\n",
    "plt.plot(history_es.history['val_loss'], label='Testing loss')\n",
    "plt.legend();"
   ]
  },
  {
   "cell_type": "code",
   "execution_count": null,
   "metadata": {},
   "outputs": [],
   "source": []
  }
 ],
 "metadata": {
  "kernelspec": {
   "display_name": "Python 3",
   "language": "python",
   "name": "python3"
  },
  "language_info": {
   "codemirror_mode": {
    "name": "ipython",
    "version": 3
   },
   "file_extension": ".py",
   "mimetype": "text/x-python",
   "name": "python",
   "nbconvert_exporter": "python",
   "pygments_lexer": "ipython3",
   "version": "3.6.6"
  }
 },
 "nbformat": 4,
 "nbformat_minor": 2
}
