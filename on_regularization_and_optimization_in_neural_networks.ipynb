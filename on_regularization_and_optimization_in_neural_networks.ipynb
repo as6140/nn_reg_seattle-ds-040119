{
 "cells": [
  {
   "cell_type": "markdown",
   "metadata": {},
   "source": [
    "# Regularization and Optimization in Neural Networks\n",
    "\n",
    "## Regularization of NNs\n",
    "\n",
    "Does regularization make sense in the context of neural networks? <br/>\n",
    "\n",
    "Yes! We still have all of the salient ingredients: a loss function, overfitting vs. underfitting, and coefficients (weights) that could get too large.\n",
    "\n",
    "But there are now a few different flavors besides L1 and L2 regularization. (Note that L1 regularization is not common in the context of  neural networks.)"
   ]
  },
  {
   "cell_type": "code",
   "execution_count": 33,
   "metadata": {},
   "outputs": [],
   "source": [
    "import pandas as pd\n",
    "from sklearn.model_selection import train_test_split\n",
    "from sklearn.preprocessing import StandardScaler\n",
    "from keras.models import Sequential\n",
    "from keras.layers import Dense\n",
    "from keras.utils import to_categorical #basically for one hot encoding the Y, output (wine dataset: \"quality\")\n",
    "from matplotlib import pyplot as plt\n",
    "%matplotlib inline"
   ]
  },
  {
   "cell_type": "code",
   "execution_count": 34,
   "metadata": {
    "scrolled": true
   },
   "outputs": [
    {
     "data": {
      "text/html": [
       "<div>\n",
       "<style scoped>\n",
       "    .dataframe tbody tr th:only-of-type {\n",
       "        vertical-align: middle;\n",
       "    }\n",
       "\n",
       "    .dataframe tbody tr th {\n",
       "        vertical-align: top;\n",
       "    }\n",
       "\n",
       "    .dataframe thead th {\n",
       "        text-align: right;\n",
       "    }\n",
       "</style>\n",
       "<table border=\"1\" class=\"dataframe\">\n",
       "  <thead>\n",
       "    <tr style=\"text-align: right;\">\n",
       "      <th></th>\n",
       "      <th>fixed acidity</th>\n",
       "      <th>volatile acidity</th>\n",
       "      <th>citric acid</th>\n",
       "      <th>residual sugar</th>\n",
       "      <th>chlorides</th>\n",
       "      <th>free sulfur dioxide</th>\n",
       "      <th>total sulfur dioxide</th>\n",
       "      <th>density</th>\n",
       "      <th>pH</th>\n",
       "      <th>sulphates</th>\n",
       "      <th>alcohol</th>\n",
       "      <th>quality</th>\n",
       "      <th>red_wine</th>\n",
       "    </tr>\n",
       "  </thead>\n",
       "  <tbody>\n",
       "    <tr>\n",
       "      <th>0</th>\n",
       "      <td>7.4</td>\n",
       "      <td>0.70</td>\n",
       "      <td>0.00</td>\n",
       "      <td>1.9</td>\n",
       "      <td>0.076</td>\n",
       "      <td>11.0</td>\n",
       "      <td>34.0</td>\n",
       "      <td>0.9978</td>\n",
       "      <td>3.51</td>\n",
       "      <td>0.56</td>\n",
       "      <td>9.4</td>\n",
       "      <td>5</td>\n",
       "      <td>1</td>\n",
       "    </tr>\n",
       "    <tr>\n",
       "      <th>1</th>\n",
       "      <td>7.8</td>\n",
       "      <td>0.88</td>\n",
       "      <td>0.00</td>\n",
       "      <td>2.6</td>\n",
       "      <td>0.098</td>\n",
       "      <td>25.0</td>\n",
       "      <td>67.0</td>\n",
       "      <td>0.9968</td>\n",
       "      <td>3.20</td>\n",
       "      <td>0.68</td>\n",
       "      <td>9.8</td>\n",
       "      <td>5</td>\n",
       "      <td>1</td>\n",
       "    </tr>\n",
       "    <tr>\n",
       "      <th>2</th>\n",
       "      <td>7.8</td>\n",
       "      <td>0.76</td>\n",
       "      <td>0.04</td>\n",
       "      <td>2.3</td>\n",
       "      <td>0.092</td>\n",
       "      <td>15.0</td>\n",
       "      <td>54.0</td>\n",
       "      <td>0.9970</td>\n",
       "      <td>3.26</td>\n",
       "      <td>0.65</td>\n",
       "      <td>9.8</td>\n",
       "      <td>5</td>\n",
       "      <td>1</td>\n",
       "    </tr>\n",
       "    <tr>\n",
       "      <th>3</th>\n",
       "      <td>11.2</td>\n",
       "      <td>0.28</td>\n",
       "      <td>0.56</td>\n",
       "      <td>1.9</td>\n",
       "      <td>0.075</td>\n",
       "      <td>17.0</td>\n",
       "      <td>60.0</td>\n",
       "      <td>0.9980</td>\n",
       "      <td>3.16</td>\n",
       "      <td>0.58</td>\n",
       "      <td>9.8</td>\n",
       "      <td>6</td>\n",
       "      <td>1</td>\n",
       "    </tr>\n",
       "    <tr>\n",
       "      <th>4</th>\n",
       "      <td>7.4</td>\n",
       "      <td>0.70</td>\n",
       "      <td>0.00</td>\n",
       "      <td>1.9</td>\n",
       "      <td>0.076</td>\n",
       "      <td>11.0</td>\n",
       "      <td>34.0</td>\n",
       "      <td>0.9978</td>\n",
       "      <td>3.51</td>\n",
       "      <td>0.56</td>\n",
       "      <td>9.4</td>\n",
       "      <td>5</td>\n",
       "      <td>1</td>\n",
       "    </tr>\n",
       "  </tbody>\n",
       "</table>\n",
       "</div>"
      ],
      "text/plain": [
       "   fixed acidity  volatile acidity  citric acid  residual sugar  chlorides  \\\n",
       "0            7.4              0.70         0.00             1.9      0.076   \n",
       "1            7.8              0.88         0.00             2.6      0.098   \n",
       "2            7.8              0.76         0.04             2.3      0.092   \n",
       "3           11.2              0.28         0.56             1.9      0.075   \n",
       "4            7.4              0.70         0.00             1.9      0.076   \n",
       "\n",
       "   free sulfur dioxide  total sulfur dioxide  density    pH  sulphates  \\\n",
       "0                 11.0                  34.0   0.9978  3.51       0.56   \n",
       "1                 25.0                  67.0   0.9968  3.20       0.68   \n",
       "2                 15.0                  54.0   0.9970  3.26       0.65   \n",
       "3                 17.0                  60.0   0.9980  3.16       0.58   \n",
       "4                 11.0                  34.0   0.9978  3.51       0.56   \n",
       "\n",
       "   alcohol  quality  red_wine  \n",
       "0      9.4        5         1  \n",
       "1      9.8        5         1  \n",
       "2      9.8        5         1  \n",
       "3      9.8        6         1  \n",
       "4      9.4        5         1  "
      ]
     },
     "execution_count": 34,
     "metadata": {},
     "output_type": "execute_result"
    }
   ],
   "source": [
    "# Reading in the dataset\n",
    "\n",
    "wine = pd.read_csv('wine.csv')\n",
    "wine.head()"
   ]
  },
  {
   "cell_type": "code",
   "execution_count": 35,
   "metadata": {},
   "outputs": [
    {
     "data": {
      "text/plain": [
       "6    2836\n",
       "5    2138\n",
       "7    1079\n",
       "4     216\n",
       "8     193\n",
       "3      30\n",
       "9       5\n",
       "Name: quality, dtype: int64"
      ]
     },
     "execution_count": 35,
     "metadata": {},
     "output_type": "execute_result"
    }
   ],
   "source": [
    "# Investigating our target\n",
    "\n",
    "wine['quality'].value_counts() #7 possibilities from rating 3-9"
   ]
  },
  {
   "cell_type": "code",
   "execution_count": 36,
   "metadata": {},
   "outputs": [],
   "source": [
    "# Re-calibrating\n",
    "\n",
    "wine['quality'] = wine['quality'].map(lambda x: x-3)"
   ]
  },
  {
   "cell_type": "code",
   "execution_count": 37,
   "metadata": {},
   "outputs": [
    {
     "data": {
      "text/plain": [
       "3    2836\n",
       "2    2138\n",
       "4    1079\n",
       "1     216\n",
       "5     193\n",
       "0      30\n",
       "6       5\n",
       "Name: quality, dtype: int64"
      ]
     },
     "execution_count": 37,
     "metadata": {},
     "output_type": "execute_result"
    }
   ],
   "source": [
    "wine['quality'].value_counts()"
   ]
  },
  {
   "cell_type": "code",
   "execution_count": 38,
   "metadata": {},
   "outputs": [],
   "source": [
    "# Defining X and y\n",
    "\n",
    "X = wine.drop('quality',axis=1)\n",
    "y = wine['quality']"
   ]
  },
  {
   "cell_type": "code",
   "execution_count": 39,
   "metadata": {
    "scrolled": true
   },
   "outputs": [
    {
     "name": "stderr",
     "output_type": "stream",
     "text": [
      "/anaconda3/envs/learn-env/lib/python3.6/site-packages/sklearn/preprocessing/data.py:625: DataConversionWarning: Data with input dtype int64, float64 were all converted to float64 by StandardScaler.\n",
      "  return self.partial_fit(X, y)\n",
      "/anaconda3/envs/learn-env/lib/python3.6/site-packages/sklearn/base.py:462: DataConversionWarning: Data with input dtype int64, float64 were all converted to float64 by StandardScaler.\n",
      "  return self.fit(X, **fit_params).transform(X)\n",
      "/anaconda3/envs/learn-env/lib/python3.6/site-packages/ipykernel_launcher.py:7: DataConversionWarning: Data with input dtype int64, float64 were all converted to float64 by StandardScaler.\n",
      "  import sys\n"
     ]
    }
   ],
   "source": [
    "# Splitting and scaling\n",
    "\n",
    "X_train, X_test, y_train, y_test = train_test_split(X,y,random_state=42)\n",
    "\n",
    "ss = StandardScaler()\n",
    "X_train_s = ss.fit_transform(X_train)\n",
    "X_test_s = ss.transform(X_test)"
   ]
  },
  {
   "cell_type": "code",
   "execution_count": 40,
   "metadata": {},
   "outputs": [
    {
     "data": {
      "text/plain": [
       "1539    2\n",
       "1109    3\n",
       "100     3\n",
       "5477    2\n",
       "6416    3\n",
       "Name: quality, dtype: int64"
      ]
     },
     "execution_count": 40,
     "metadata": {},
     "output_type": "execute_result"
    }
   ],
   "source": [
    "y_train[:5]"
   ]
  },
  {
   "cell_type": "code",
   "execution_count": 41,
   "metadata": {},
   "outputs": [],
   "source": [
    "# Encoding our target\n",
    "\n",
    "y_train = to_categorical(y_train) #run only once"
   ]
  },
  {
   "cell_type": "code",
   "execution_count": 42,
   "metadata": {},
   "outputs": [
    {
     "data": {
      "text/plain": [
       "array([[0., 0., 1., ..., 0., 0., 0.],\n",
       "       [0., 0., 0., ..., 0., 0., 0.],\n",
       "       [0., 0., 0., ..., 0., 0., 0.],\n",
       "       ...,\n",
       "       [0., 0., 1., ..., 0., 0., 0.],\n",
       "       [0., 0., 1., ..., 0., 0., 0.],\n",
       "       [0., 0., 1., ..., 0., 0., 0.]], dtype=float32)"
      ]
     },
     "execution_count": 42,
     "metadata": {},
     "output_type": "execute_result"
    }
   ],
   "source": [
    "y_train"
   ]
  },
  {
   "cell_type": "code",
   "execution_count": 43,
   "metadata": {},
   "outputs": [],
   "source": [
    "y_test = to_categorical(y_test) #run only once"
   ]
  },
  {
   "cell_type": "code",
   "execution_count": 44,
   "metadata": {},
   "outputs": [],
   "source": [
    "# Constructing our model\n",
    "\n",
    "model = Sequential()\n",
    "n_input = X_train_s.shape[1]\n",
    "n_hidden = n_input\n",
    "\n",
    "model.add(Dense(n_hidden, input_dim=n_input, activation='relu'))\n",
    "\n",
    "# We want to predict probabilities, so we'll use a softmax activation\n",
    "#7 neurons because of the 7 quality types\n",
    "model.add(Dense(7, activation='softmax'))"
   ]
  },
  {
   "cell_type": "code",
   "execution_count": 46,
   "metadata": {},
   "outputs": [],
   "source": [
    "# Compiling: \n",
    "# Taking model that was just built, and state loss function, optimizer, and metrics BEFORE fit\n",
    "\n",
    "# We want to use categorical crossentropy as our optimizer\n",
    "\n",
    "model.compile(loss='categorical_crossentropy', optimizer='adam', metrics=['acc']) "
   ]
  },
  {
   "cell_type": "code",
   "execution_count": 47,
   "metadata": {
    "scrolled": true
   },
   "outputs": [
    {
     "name": "stdout",
     "output_type": "stream",
     "text": [
      "Train on 4872 samples, validate on 1625 samples\n",
      "Epoch 1/42\n",
      "4872/4872 [==============================] - 1s 299us/step - loss: 1.6884 - acc: 0.3126 - val_loss: 1.4251 - val_acc: 0.4468\n",
      "Epoch 2/42\n",
      "4872/4872 [==============================] - 0s 67us/step - loss: 1.3234 - acc: 0.4600 - val_loss: 1.2498 - val_acc: 0.4886\n",
      "Epoch 3/42\n",
      "4872/4872 [==============================] - 0s 79us/step - loss: 1.2110 - acc: 0.4977 - val_loss: 1.1893 - val_acc: 0.5157\n",
      "Epoch 4/42\n",
      "4872/4872 [==============================] - 0s 66us/step - loss: 1.1654 - acc: 0.5174 - val_loss: 1.1636 - val_acc: 0.5262\n",
      "Epoch 5/42\n",
      "4872/4872 [==============================] - 0s 72us/step - loss: 1.1371 - acc: 0.5287 - val_loss: 1.1447 - val_acc: 0.5391\n",
      "Epoch 6/42\n",
      "4872/4872 [==============================] - 0s 59us/step - loss: 1.1169 - acc: 0.5392 - val_loss: 1.1289 - val_acc: 0.5403\n",
      "Epoch 7/42\n",
      "4872/4872 [==============================] - 0s 76us/step - loss: 1.1019 - acc: 0.5480 - val_loss: 1.1219 - val_acc: 0.5354\n",
      "Epoch 8/42\n",
      "4872/4872 [==============================] - 0s 78us/step - loss: 1.0907 - acc: 0.5552 - val_loss: 1.1151 - val_acc: 0.5348\n",
      "Epoch 9/42\n",
      "4872/4872 [==============================] - 0s 72us/step - loss: 1.0827 - acc: 0.5546 - val_loss: 1.1102 - val_acc: 0.5428\n",
      "Epoch 10/42\n",
      "4872/4872 [==============================] - 0s 57us/step - loss: 1.0760 - acc: 0.5560 - val_loss: 1.1062 - val_acc: 0.5422\n",
      "Epoch 11/42\n",
      "4872/4872 [==============================] - 0s 69us/step - loss: 1.0710 - acc: 0.5593 - val_loss: 1.1034 - val_acc: 0.5403\n",
      "Epoch 12/42\n",
      "4872/4872 [==============================] - 0s 78us/step - loss: 1.0670 - acc: 0.5626 - val_loss: 1.1058 - val_acc: 0.5360\n",
      "Epoch 13/42\n",
      "4872/4872 [==============================] - 0s 61us/step - loss: 1.0642 - acc: 0.5569 - val_loss: 1.0979 - val_acc: 0.5415\n",
      "Epoch 14/42\n",
      "4872/4872 [==============================] - 0s 64us/step - loss: 1.0606 - acc: 0.5614 - val_loss: 1.0965 - val_acc: 0.5409\n",
      "Epoch 15/42\n",
      "4872/4872 [==============================] - 0s 56us/step - loss: 1.0576 - acc: 0.5601 - val_loss: 1.0932 - val_acc: 0.5440\n",
      "Epoch 16/42\n",
      "4872/4872 [==============================] - 0s 57us/step - loss: 1.0562 - acc: 0.5601 - val_loss: 1.0949 - val_acc: 0.5422\n",
      "Epoch 17/42\n",
      "4872/4872 [==============================] - 0s 57us/step - loss: 1.0540 - acc: 0.5624 - val_loss: 1.0921 - val_acc: 0.5409\n",
      "Epoch 18/42\n",
      "4872/4872 [==============================] - 0s 57us/step - loss: 1.0515 - acc: 0.5644 - val_loss: 1.0898 - val_acc: 0.5378\n",
      "Epoch 19/42\n",
      "4872/4872 [==============================] - 0s 58us/step - loss: 1.0491 - acc: 0.5630 - val_loss: 1.0864 - val_acc: 0.5489\n",
      "Epoch 20/42\n",
      "4872/4872 [==============================] - 0s 61us/step - loss: 1.0472 - acc: 0.5651 - val_loss: 1.0851 - val_acc: 0.5502\n",
      "Epoch 21/42\n",
      "4872/4872 [==============================] - 0s 56us/step - loss: 1.0457 - acc: 0.5620 - val_loss: 1.0829 - val_acc: 0.5471\n",
      "Epoch 22/42\n",
      "4872/4872 [==============================] - 0s 58us/step - loss: 1.0438 - acc: 0.5663 - val_loss: 1.0827 - val_acc: 0.5458\n",
      "Epoch 23/42\n",
      "4872/4872 [==============================] - 0s 62us/step - loss: 1.0429 - acc: 0.5614 - val_loss: 1.0838 - val_acc: 0.5397\n",
      "Epoch 24/42\n",
      "4872/4872 [==============================] - 0s 62us/step - loss: 1.0409 - acc: 0.5647 - val_loss: 1.0802 - val_acc: 0.5477\n",
      "Epoch 25/42\n",
      "4872/4872 [==============================] - 0s 68us/step - loss: 1.0395 - acc: 0.5642 - val_loss: 1.0796 - val_acc: 0.5428\n",
      "Epoch 26/42\n",
      "4872/4872 [==============================] - 0s 75us/step - loss: 1.0382 - acc: 0.5634 - val_loss: 1.0780 - val_acc: 0.5434\n",
      "Epoch 27/42\n",
      "4872/4872 [==============================] - 0s 79us/step - loss: 1.0367 - acc: 0.5677 - val_loss: 1.0766 - val_acc: 0.5471\n",
      "Epoch 28/42\n",
      "4872/4872 [==============================] - 0s 65us/step - loss: 1.0356 - acc: 0.5630 - val_loss: 1.0762 - val_acc: 0.5514\n",
      "Epoch 29/42\n",
      "4872/4872 [==============================] - 0s 50us/step - loss: 1.0346 - acc: 0.5655 - val_loss: 1.0733 - val_acc: 0.5489\n",
      "Epoch 30/42\n",
      "4872/4872 [==============================] - 0s 55us/step - loss: 1.0338 - acc: 0.5626 - val_loss: 1.0718 - val_acc: 0.5465\n",
      "Epoch 31/42\n",
      "4872/4872 [==============================] - 0s 62us/step - loss: 1.0325 - acc: 0.5620 - val_loss: 1.0729 - val_acc: 0.5446\n",
      "Epoch 32/42\n",
      "4872/4872 [==============================] - 0s 90us/step - loss: 1.0314 - acc: 0.5649 - val_loss: 1.0716 - val_acc: 0.5446\n",
      "Epoch 33/42\n",
      "4872/4872 [==============================] - 1s 128us/step - loss: 1.0305 - acc: 0.5640 - val_loss: 1.0687 - val_acc: 0.5520\n",
      "Epoch 34/42\n",
      "4872/4872 [==============================] - 0s 82us/step - loss: 1.0298 - acc: 0.5632 - val_loss: 1.0677 - val_acc: 0.5520\n",
      "Epoch 35/42\n",
      "4872/4872 [==============================] - 0s 72us/step - loss: 1.0284 - acc: 0.5657 - val_loss: 1.0684 - val_acc: 0.5440\n",
      "Epoch 36/42\n",
      "4872/4872 [==============================] - 0s 74us/step - loss: 1.0281 - acc: 0.5644 - val_loss: 1.0678 - val_acc: 0.5483\n",
      "Epoch 37/42\n",
      "4872/4872 [==============================] - 0s 85us/step - loss: 1.0273 - acc: 0.5665 - val_loss: 1.0669 - val_acc: 0.5440\n",
      "Epoch 38/42\n",
      "4872/4872 [==============================] - 0s 74us/step - loss: 1.0268 - acc: 0.5636 - val_loss: 1.0674 - val_acc: 0.5397\n",
      "Epoch 39/42\n",
      "4872/4872 [==============================] - 0s 63us/step - loss: 1.0253 - acc: 0.5663 - val_loss: 1.0661 - val_acc: 0.5446\n",
      "Epoch 40/42\n",
      "4872/4872 [==============================] - 0s 92us/step - loss: 1.0248 - acc: 0.5636 - val_loss: 1.0632 - val_acc: 0.5495\n",
      "Epoch 41/42\n",
      "4872/4872 [==============================] - 0s 88us/step - loss: 1.0238 - acc: 0.5671 - val_loss: 1.0673 - val_acc: 0.5391\n",
      "Epoch 42/42\n",
      "4872/4872 [==============================] - 0s 79us/step - loss: 1.0235 - acc: 0.5647 - val_loss: 1.0654 - val_acc: 0.5354\n"
     ]
    }
   ],
   "source": [
    "# Fitting and saving the history log\n",
    "\n",
    "history_log = model.fit(X_train_s, y_train, \n",
    "                        validation_data=(X_test_s, y_test), \n",
    "                        epochs=42, batch_size=None) \n"
   ]
  },
  {
   "cell_type": "code",
   "execution_count": 48,
   "metadata": {},
   "outputs": [
    {
     "name": "stdout",
     "output_type": "stream",
     "text": [
      "[array([[-7.00790465e-01, -5.29737532e-01,  7.65274540e-02,\n",
      "         1.21014535e-01, -1.12161756e-01, -7.21010193e-02,\n",
      "         8.64845142e-02, -5.18596649e-01, -3.30102265e-01,\n",
      "         3.96909155e-02, -1.23364247e-01, -1.61104217e-01],\n",
      "       [ 1.51703462e-01,  6.67447925e-01,  1.83906436e-01,\n",
      "        -6.14995837e-01,  5.15776753e-01,  8.82388800e-02,\n",
      "         5.63942015e-01, -9.81786028e-02, -8.97460043e-01,\n",
      "        -1.11305267e-01,  3.47352922e-01,  5.17295122e-01],\n",
      "       [-6.68465316e-01, -6.33084297e-01,  1.90479815e-01,\n",
      "        -4.13599700e-01,  2.85403073e-01,  2.38686241e-02,\n",
      "        -2.25704536e-01,  1.88136891e-01,  1.42559394e-01,\n",
      "         1.67939633e-01,  3.02600503e-01, -9.76086967e-03],\n",
      "       [-1.02359846e-01,  2.02649772e-01,  1.84180558e-01,\n",
      "        -4.89488896e-03, -1.12799883e-01,  5.29303998e-02,\n",
      "         3.78789157e-01, -8.06768015e-02,  7.66106009e-01,\n",
      "        -2.74932325e-01, -4.99074936e-01, -1.03254303e-01],\n",
      "       [-3.81339759e-01,  3.55076134e-01,  1.40460089e-01,\n",
      "        -1.57417253e-01, -4.86428384e-04, -4.61802840e-01,\n",
      "        -3.16385031e-01,  5.58407158e-02, -5.27814448e-01,\n",
      "         3.68565291e-01, -1.26833349e-01,  9.28708613e-02],\n",
      "       [ 2.78796077e-01, -1.91439644e-01,  1.05418697e-01,\n",
      "         8.47516432e-02, -5.16091585e-01,  8.04304630e-02,\n",
      "         4.04274374e-01,  3.33062440e-01,  8.55746120e-02,\n",
      "         1.46283180e-01, -4.27320987e-01,  6.45864487e-01],\n",
      "       [-5.42004518e-02, -3.87642503e-01, -5.48423171e-01,\n",
      "        -2.74631202e-01,  2.15711549e-01,  1.13672577e-02,\n",
      "        -3.74538988e-01,  3.43540221e-01, -9.89548489e-03,\n",
      "        -3.67577821e-01,  5.01811862e-01,  3.60567588e-03],\n",
      "       [ 2.46866748e-01, -2.52337039e-01, -3.21905136e-01,\n",
      "        -1.38639241e-01, -1.25986561e-01, -5.93446612e-01,\n",
      "        -7.27497518e-01,  1.99736226e-02, -3.26926410e-01,\n",
      "         2.51008242e-01, -4.58392590e-01,  3.17509711e-01],\n",
      "       [ 2.67012656e-01,  2.75156021e-01,  1.44271567e-01,\n",
      "         8.29839930e-02, -1.11863248e-01,  4.93683666e-02,\n",
      "         5.54259539e-01, -3.42057019e-01,  2.22811103e-01,\n",
      "         6.70350716e-02, -5.44796944e-01,  3.55789602e-01],\n",
      "       [ 2.75962427e-02, -8.66006911e-02,  1.04687655e+00,\n",
      "         6.04736686e-01, -1.26823448e-02,  5.23339100e-02,\n",
      "         3.11886817e-01, -3.42141777e-01,  2.17486620e-01,\n",
      "         2.54293501e-01,  2.55450666e-01,  1.06891384e-02],\n",
      "       [-3.20952326e-01, -2.25568771e-01,  1.32147297e-01,\n",
      "         2.42558703e-01, -5.36732674e-01,  5.33421896e-02,\n",
      "         3.50867689e-01, -3.63185912e-01,  6.38489008e-01,\n",
      "         2.86022782e-01, -3.03439468e-01, -4.36755121e-01],\n",
      "       [ 1.62775740e-01, -3.76803488e-01, -1.21059287e-02,\n",
      "         4.66232777e-01, -5.34173436e-02, -2.34913602e-01,\n",
      "         7.38179758e-02, -5.08908212e-01, -6.25794351e-01,\n",
      "         5.53013861e-01, -3.62014771e-01,  4.47363853e-01]], dtype=float32), array([-0.19701612,  0.590883  , -0.28863636,  0.9029294 ,  0.48222816,\n",
      "       -0.15024532,  0.20408463,  0.78536105,  0.45533684,  0.45213386,\n",
      "        0.33685377,  0.65184104], dtype=float32)]\n",
      "[array([[-0.15119363,  0.03505234,  0.18529837, -0.37449592, -0.19424494,\n",
      "        -0.5416699 , -0.4993615 ],\n",
      "       [ 0.19832985,  0.37176004,  0.15266539,  0.250312  , -0.40613306,\n",
      "        -0.5711594 , -0.70181066],\n",
      "       [ 0.27696374, -0.21590018, -0.21087427, -0.30671275,  0.06084949,\n",
      "         0.5181655 , -0.08533165],\n",
      "       [-0.9845944 ,  0.10164406,  0.35980657,  0.6245951 ,  0.5539494 ,\n",
      "         0.06054209, -0.5628761 ],\n",
      "       [-0.11852298,  0.77435935,  0.5172551 , -0.27219713, -0.44464484,\n",
      "        -0.81203455, -1.6991922 ],\n",
      "       [-0.3224766 , -0.29330033, -0.26451832, -0.38781273,  0.387749  ,\n",
      "         0.2570873 ,  0.30697823],\n",
      "       [ 0.00722127, -0.18137702, -0.8391249 , -0.28501052,  0.34465882,\n",
      "         0.7501494 , -0.10458886],\n",
      "       [-0.4555846 , -0.1825635 ,  0.42326102,  0.53963685,  0.50462985,\n",
      "         0.29393545, -1.0110022 ],\n",
      "       [-0.4446555 , -0.6200896 , -0.15415314,  0.41553336,  0.32489276,\n",
      "         0.20172265, -0.10799873],\n",
      "       [-0.28337336, -0.30060044,  0.16192502,  0.51624703,  0.45142242,\n",
      "        -0.12370706, -0.29564974],\n",
      "       [-0.3428709 ,  0.33570537,  0.3378443 ,  0.3972249 , -0.17614205,\n",
      "        -0.6113357 , -0.33590543],\n",
      "       [ 0.16726178, -0.2999493 ,  0.40561664,  0.02265014, -0.66594666,\n",
      "        -0.7486221 , -1.3283691 ]], dtype=float32), array([-0.64721483, -0.38745815,  0.41164568,  0.29760283, -0.10935199,\n",
      "       -0.46488857, -0.47602883], dtype=float32)]\n"
     ]
    }
   ],
   "source": [
    "# Extracting weights\n",
    "\n",
    "for layer in model.layers:\n",
    "    print(layer.get_weights())"
   ]
  },
  {
   "cell_type": "code",
   "execution_count": 52,
   "metadata": {},
   "outputs": [
    {
     "data": {
      "text/plain": [
       "array([[0.  , 0.  , 0.05, 0.57, 0.3 , 0.08, 0.  ],\n",
       "       [0.03, 0.06, 0.77, 0.14, 0.  , 0.  , 0.  ],\n",
       "       [0.  , 0.01, 0.03, 0.31, 0.48, 0.17, 0.  ],\n",
       "       [0.  , 0.  , 0.37, 0.54, 0.07, 0.01, 0.  ],\n",
       "       [0.01, 0.01, 0.69, 0.25, 0.03, 0.01, 0.  ]], dtype=float32)"
      ]
     },
     "execution_count": 52,
     "metadata": {},
     "output_type": "execute_result"
    }
   ],
   "source": [
    "# Predicting on some test data\n",
    "\n",
    "model.predict(X_test_s[:5]).round(decimals=2) #each row should sum to 1.0 given softmax"
   ]
  },
  {
   "cell_type": "code",
   "execution_count": 54,
   "metadata": {},
   "outputs": [
    {
     "data": {
      "text/plain": [
       "array([3, 2, 4, 3, 2])"
      ]
     },
     "execution_count": 54,
     "metadata": {},
     "output_type": "execute_result"
    }
   ],
   "source": [
    "model.predict_classes(X_test_s[:5])"
   ]
  },
  {
   "cell_type": "code",
   "execution_count": 55,
   "metadata": {},
   "outputs": [
    {
     "data": {
      "text/plain": [
       "array([[0., 0., 0., 0., 0., 1., 0.],\n",
       "       [0., 0., 1., 0., 0., 0., 0.],\n",
       "       [0., 0., 0., 0., 1., 0., 0.],\n",
       "       [0., 0., 0., 1., 0., 0., 0.],\n",
       "       [0., 0., 0., 1., 0., 0., 0.]], dtype=float32)"
      ]
     },
     "execution_count": 55,
     "metadata": {},
     "output_type": "execute_result"
    }
   ],
   "source": [
    "# Comparing with reality\n",
    "\n",
    "y_test[:5] \n",
    "#model predictions almost sort of match up with up with actual reality"
   ]
  },
  {
   "cell_type": "code",
   "execution_count": 56,
   "metadata": {},
   "outputs": [
    {
     "data": {
      "image/png": "[encoded data removed]",
      "text/plain": [
       "<Figure size 432x288 with 1 Axes>"
      ]
     },
     "metadata": {
      "needs_background": "light"
     },
     "output_type": "display_data"
    }
   ],
   "source": [
    "# Plotting\n",
    "\n",
    "plt.plot(history_log.history['loss'], label = 'train loss')\n",
    "plt.plot(history_log.history['val_loss'], label = 'test loss')\n",
    "plt.legend();"
   ]
  },
  {
   "cell_type": "markdown",
   "metadata": {},
   "source": [
    "- test loss begins to plateau with 42 epochs\n",
    "- Let's see if kera.regularizers (Regularization) can help improve our model a bit"
   ]
  },
  {
   "cell_type": "markdown",
   "metadata": {},
   "source": [
    "## Adding Regularization"
   ]
  },
  {
   "cell_type": "code",
   "execution_count": 57,
   "metadata": {},
   "outputs": [
    {
     "name": "stdout",
     "output_type": "stream",
     "text": [
      "Train on 4872 samples, validate on 1625 samples\n",
      "Epoch 1/42\n",
      "4872/4872 [==============================] - 1s 132us/step - loss: 1.8467 - acc: 0.3183 - val_loss: 1.6102 - val_acc: 0.4166\n",
      "Epoch 2/42\n",
      "4872/4872 [==============================] - 0s 80us/step - loss: 1.5022 - acc: 0.4522 - val_loss: 1.4441 - val_acc: 0.4806\n",
      "Epoch 3/42\n",
      "4872/4872 [==============================] - 0s 66us/step - loss: 1.3913 - acc: 0.4924 - val_loss: 1.3658 - val_acc: 0.5071\n",
      "Epoch 4/42\n",
      "4872/4872 [==============================] - 0s 67us/step - loss: 1.3300 - acc: 0.5057 - val_loss: 1.3141 - val_acc: 0.5046\n",
      "Epoch 5/42\n",
      "4872/4872 [==============================] - 0s 65us/step - loss: 1.2860 - acc: 0.5207 - val_loss: 1.2775 - val_acc: 0.5175\n",
      "Epoch 6/42\n",
      "4872/4872 [==============================] - 0s 81us/step - loss: 1.2527 - acc: 0.5265 - val_loss: 1.2491 - val_acc: 0.5268\n",
      "Epoch 7/42\n",
      "4872/4872 [==============================] - 0s 74us/step - loss: 1.2260 - acc: 0.5341 - val_loss: 1.2276 - val_acc: 0.5274\n",
      "Epoch 8/42\n",
      "4872/4872 [==============================] - 0s 67us/step - loss: 1.2058 - acc: 0.5402 - val_loss: 1.2107 - val_acc: 0.5280\n",
      "Epoch 9/42\n",
      "4872/4872 [==============================] - 0s 70us/step - loss: 1.1909 - acc: 0.5450 - val_loss: 1.1969 - val_acc: 0.5298\n",
      "Epoch 10/42\n",
      "4872/4872 [==============================] - 0s 61us/step - loss: 1.1793 - acc: 0.5480 - val_loss: 1.1891 - val_acc: 0.5323\n",
      "Epoch 11/42\n",
      "4872/4872 [==============================] - 0s 65us/step - loss: 1.1715 - acc: 0.5507 - val_loss: 1.1818 - val_acc: 0.5354\n",
      "Epoch 12/42\n",
      "4872/4872 [==============================] - 0s 62us/step - loss: 1.1650 - acc: 0.5523 - val_loss: 1.1758 - val_acc: 0.5372\n",
      "Epoch 13/42\n",
      "4872/4872 [==============================] - 0s 68us/step - loss: 1.1601 - acc: 0.5521 - val_loss: 1.1753 - val_acc: 0.5317\n",
      "Epoch 14/42\n",
      "4872/4872 [==============================] - 0s 89us/step - loss: 1.1565 - acc: 0.5542 - val_loss: 1.1700 - val_acc: 0.5342\n",
      "Epoch 15/42\n",
      "4872/4872 [==============================] - 0s 73us/step - loss: 1.1534 - acc: 0.5530 - val_loss: 1.1667 - val_acc: 0.5385\n",
      "Epoch 16/42\n",
      "4872/4872 [==============================] - 0s 74us/step - loss: 1.1514 - acc: 0.5562 - val_loss: 1.1643 - val_acc: 0.5372\n",
      "Epoch 17/42\n",
      "4872/4872 [==============================] - 0s 62us/step - loss: 1.1484 - acc: 0.5546 - val_loss: 1.1629 - val_acc: 0.5329\n",
      "Epoch 18/42\n",
      "4872/4872 [==============================] - 0s 62us/step - loss: 1.1475 - acc: 0.5519 - val_loss: 1.1619 - val_acc: 0.5385\n",
      "Epoch 19/42\n",
      "4872/4872 [==============================] - 0s 65us/step - loss: 1.1452 - acc: 0.5542 - val_loss: 1.1586 - val_acc: 0.5317\n",
      "Epoch 20/42\n",
      "4872/4872 [==============================] - 0s 96us/step - loss: 1.1437 - acc: 0.5552 - val_loss: 1.1585 - val_acc: 0.5342\n",
      "Epoch 21/42\n",
      "4872/4872 [==============================] - 0s 79us/step - loss: 1.1420 - acc: 0.5558 - val_loss: 1.1584 - val_acc: 0.5354\n",
      "Epoch 22/42\n",
      "4872/4872 [==============================] - 0s 64us/step - loss: 1.1417 - acc: 0.5558 - val_loss: 1.1569 - val_acc: 0.5348\n",
      "Epoch 23/42\n",
      "4872/4872 [==============================] - 0s 75us/step - loss: 1.1400 - acc: 0.5536 - val_loss: 1.1554 - val_acc: 0.5378\n",
      "Epoch 24/42\n",
      "4872/4872 [==============================] - 0s 67us/step - loss: 1.1391 - acc: 0.5546 - val_loss: 1.1553 - val_acc: 0.5329\n",
      "Epoch 25/42\n",
      "4872/4872 [==============================] - 0s 65us/step - loss: 1.1383 - acc: 0.5530 - val_loss: 1.1541 - val_acc: 0.5317\n",
      "Epoch 26/42\n",
      "4872/4872 [==============================] - 0s 64us/step - loss: 1.1367 - acc: 0.5554 - val_loss: 1.1536 - val_acc: 0.5354\n",
      "Epoch 27/42\n",
      "4872/4872 [==============================] - 0s 67us/step - loss: 1.1365 - acc: 0.5569 - val_loss: 1.1511 - val_acc: 0.5329\n",
      "Epoch 28/42\n",
      "4872/4872 [==============================] - 0s 66us/step - loss: 1.1355 - acc: 0.5519 - val_loss: 1.1519 - val_acc: 0.5360\n",
      "Epoch 29/42\n",
      "4872/4872 [==============================] - 0s 66us/step - loss: 1.1351 - acc: 0.5538 - val_loss: 1.1537 - val_acc: 0.5397\n",
      "Epoch 30/42\n",
      "4872/4872 [==============================] - 0s 65us/step - loss: 1.1344 - acc: 0.5523 - val_loss: 1.1508 - val_acc: 0.5342\n",
      "Epoch 31/42\n",
      "4872/4872 [==============================] - 0s 68us/step - loss: 1.1335 - acc: 0.5530 - val_loss: 1.1498 - val_acc: 0.5329\n",
      "Epoch 32/42\n",
      "4872/4872 [==============================] - 0s 74us/step - loss: 1.1329 - acc: 0.5542 - val_loss: 1.1490 - val_acc: 0.5342\n",
      "Epoch 33/42\n",
      "4872/4872 [==============================] - 0s 96us/step - loss: 1.1324 - acc: 0.5560 - val_loss: 1.1489 - val_acc: 0.5335\n",
      "Epoch 34/42\n",
      "4872/4872 [==============================] - 0s 65us/step - loss: 1.1315 - acc: 0.5544 - val_loss: 1.1463 - val_acc: 0.5305\n",
      "Epoch 35/42\n",
      "4872/4872 [==============================] - 0s 77us/step - loss: 1.1311 - acc: 0.5546 - val_loss: 1.1486 - val_acc: 0.5311\n",
      "Epoch 36/42\n",
      "4872/4872 [==============================] - 0s 73us/step - loss: 1.1309 - acc: 0.5542 - val_loss: 1.1491 - val_acc: 0.5342\n",
      "Epoch 37/42\n",
      "4872/4872 [==============================] - 0s 56us/step - loss: 1.1306 - acc: 0.5554 - val_loss: 1.1488 - val_acc: 0.5329\n",
      "Epoch 38/42\n",
      "4872/4872 [==============================] - 0s 69us/step - loss: 1.1298 - acc: 0.5538 - val_loss: 1.1496 - val_acc: 0.5354\n",
      "Epoch 39/42\n",
      "4872/4872 [==============================] - 0s 79us/step - loss: 1.1297 - acc: 0.5525 - val_loss: 1.1460 - val_acc: 0.5329\n",
      "Epoch 40/42\n",
      "4872/4872 [==============================] - 0s 87us/step - loss: 1.1295 - acc: 0.5548 - val_loss: 1.1487 - val_acc: 0.5360\n",
      "Epoch 41/42\n",
      "4872/4872 [==============================] - 0s 64us/step - loss: 1.1291 - acc: 0.5534 - val_loss: 1.1484 - val_acc: 0.5378\n",
      "Epoch 42/42\n",
      "4872/4872 [==============================] - 1s 104us/step - loss: 1.1289 - acc: 0.5528 - val_loss: 1.1437 - val_acc: 0.5323\n"
     ]
    }
   ],
   "source": [
    "from keras import regularizers\n",
    "\n",
    "model_r = Sequential()\n",
    "\n",
    "n_input = X_train_s.shape[1]\n",
    "n_hidden = n_input\n",
    "\n",
    "model_r.add(Dense(n_hidden, input_dim=n_input, activation='relu',\n",
    "                 kernel_regularizer=regularizers.l2(0.01))) #add L2 regularizer (L1-L2 ratio: 0.01: 0.99)\n",
    "model_r.add(Dense(7, activation='softmax',\n",
    "                 kernel_regularizer=regularizers.l2(0.01))) #add L2 regularizer (L1-L2 ratio: 0.01: 0.99)\n",
    "\n",
    "model_r.compile(loss='categorical_crossentropy', optimizer='adam', metrics=['acc'])\n",
    "\n",
    "history_r = model_r.fit(X_train_s, y_train, validation_data=(X_test_s, y_test),\n",
    "                       epochs=42, batch_size=None)"
   ]
  },
  {
   "cell_type": "code",
   "execution_count": 58,
   "metadata": {},
   "outputs": [
    {
     "data": {
      "image/png": "[encoded data removed]",
      "text/plain": [
       "<Figure size 432x288 with 1 Axes>"
      ]
     },
     "metadata": {
      "needs_background": "light"
     },
     "output_type": "display_data"
    }
   ],
   "source": [
    "plt.plot(history_r.history['loss'], label='Training loss')\n",
    "plt.plot(history_r.history['val_loss'], label='Testing loss')\n",
    "plt.legend();"
   ]
  },
  {
   "cell_type": "markdown",
   "metadata": {},
   "source": [
    "### Dropout"
   ]
  },
  {
   "cell_type": "markdown",
   "metadata": {},
   "source": [
    "Here's a new regularization idea: Turn some neurons off during training. We'll assign probabilities of 'dropout' and then let fate decide.\n",
    "\n",
    "$\\rightarrow$ Why is this a good idea? *Is* it a good idea?\n",
    "\n",
    "Was this sort of regularization available to us before? Why (not)?"
   ]
  },
  {
   "cell_type": "markdown",
   "metadata": {},
   "source": [
    "- this was never available us before\n",
    "- in linear regression, you're either using the feature or not"
   ]
  },
  {
   "cell_type": "code",
   "execution_count": 59,
   "metadata": {},
   "outputs": [],
   "source": [
    "from keras.layers import Dropout\n",
    "#TRYING TO NOT LET IT GET TOO CAUGHT UP ON ANY ONE FEATURE\n",
    "#RANDOMIZES WHICH NEURONS TO TURN OFF EVERY EPOCH\n",
    "\n",
    "model_d = Sequential()\n",
    "\n",
    "n_input = X_train_s.shape[1]\n",
    "n_hidden = n_input"
   ]
  },
  {
   "cell_type": "code",
   "execution_count": 60,
   "metadata": {
    "scrolled": true
   },
   "outputs": [
    {
     "name": "stdout",
     "output_type": "stream",
     "text": [
      "Train on 4872 samples, validate on 1625 samples\n",
      "Epoch 1/42\n",
      "4872/4872 [==============================] - 1s 190us/step - loss: 1.7554 - acc: 0.3807 - val_loss: 1.4723 - val_acc: 0.4560\n",
      "Epoch 2/42\n",
      "4872/4872 [==============================] - 0s 89us/step - loss: 1.4222 - acc: 0.4538 - val_loss: 1.3023 - val_acc: 0.5015\n",
      "Epoch 3/42\n",
      "4872/4872 [==============================] - 0s 73us/step - loss: 1.2892 - acc: 0.4745 - val_loss: 1.2271 - val_acc: 0.5132\n",
      "Epoch 4/42\n",
      "4872/4872 [==============================] - 0s 92us/step - loss: 1.2392 - acc: 0.4965 - val_loss: 1.1870 - val_acc: 0.5218\n",
      "Epoch 5/42\n",
      "4872/4872 [==============================] - 0s 75us/step - loss: 1.1882 - acc: 0.5088 - val_loss: 1.1601 - val_acc: 0.5231\n",
      "Epoch 6/42\n",
      "4872/4872 [==============================] - 0s 78us/step - loss: 1.1685 - acc: 0.5117 - val_loss: 1.1408 - val_acc: 0.5243\n",
      "Epoch 7/42\n",
      "4872/4872 [==============================] - 0s 71us/step - loss: 1.1429 - acc: 0.5148 - val_loss: 1.1275 - val_acc: 0.5231\n",
      "Epoch 8/42\n",
      "4872/4872 [==============================] - 0s 71us/step - loss: 1.1366 - acc: 0.5257 - val_loss: 1.1184 - val_acc: 0.5255\n",
      "Epoch 9/42\n",
      "4872/4872 [==============================] - 0s 63us/step - loss: 1.1182 - acc: 0.5320 - val_loss: 1.1116 - val_acc: 0.5292\n",
      "Epoch 10/42\n",
      "4872/4872 [==============================] - 0s 69us/step - loss: 1.1185 - acc: 0.5396 - val_loss: 1.1074 - val_acc: 0.5305\n",
      "Epoch 11/42\n",
      "4872/4872 [==============================] - 0s 73us/step - loss: 1.1070 - acc: 0.5363 - val_loss: 1.1024 - val_acc: 0.5280\n",
      "Epoch 12/42\n",
      "4872/4872 [==============================] - 0s 65us/step - loss: 1.1036 - acc: 0.5316 - val_loss: 1.1003 - val_acc: 0.5286\n",
      "Epoch 13/42\n",
      "4872/4872 [==============================] - 0s 72us/step - loss: 1.0946 - acc: 0.5341 - val_loss: 1.0978 - val_acc: 0.5317\n",
      "Epoch 14/42\n",
      "4872/4872 [==============================] - 0s 65us/step - loss: 1.0955 - acc: 0.5355 - val_loss: 1.0955 - val_acc: 0.5366\n",
      "Epoch 15/42\n",
      "4872/4872 [==============================] - 0s 67us/step - loss: 1.0905 - acc: 0.5382 - val_loss: 1.0944 - val_acc: 0.5354\n",
      "Epoch 16/42\n",
      "4872/4872 [==============================] - 0s 69us/step - loss: 1.0861 - acc: 0.5499 - val_loss: 1.0935 - val_acc: 0.5335\n",
      "Epoch 17/42\n",
      "4872/4872 [==============================] - 0s 74us/step - loss: 1.0868 - acc: 0.5369 - val_loss: 1.0969 - val_acc: 0.5397\n",
      "Epoch 18/42\n",
      "4872/4872 [==============================] - 0s 68us/step - loss: 1.0841 - acc: 0.5456 - val_loss: 1.0919 - val_acc: 0.5391\n",
      "Epoch 19/42\n",
      "4872/4872 [==============================] - 0s 84us/step - loss: 1.0818 - acc: 0.5462 - val_loss: 1.0913 - val_acc: 0.5372\n",
      "Epoch 20/42\n",
      "4872/4872 [==============================] - 0s 93us/step - loss: 1.0818 - acc: 0.5408 - val_loss: 1.0899 - val_acc: 0.5366\n",
      "Epoch 21/42\n",
      "4872/4872 [==============================] - 0s 99us/step - loss: 1.0705 - acc: 0.5525 - val_loss: 1.0907 - val_acc: 0.5372\n",
      "Epoch 22/42\n",
      "4872/4872 [==============================] - 0s 86us/step - loss: 1.0784 - acc: 0.5472 - val_loss: 1.0893 - val_acc: 0.5329\n",
      "Epoch 23/42\n",
      "4872/4872 [==============================] - 0s 86us/step - loss: 1.0741 - acc: 0.5499 - val_loss: 1.0869 - val_acc: 0.5360\n",
      "Epoch 24/42\n",
      "4872/4872 [==============================] - 0s 85us/step - loss: 1.0754 - acc: 0.5478 - val_loss: 1.0876 - val_acc: 0.5372\n",
      "Epoch 25/42\n",
      "4872/4872 [==============================] - 0s 69us/step - loss: 1.0737 - acc: 0.5482 - val_loss: 1.0862 - val_acc: 0.5366\n",
      "Epoch 26/42\n",
      "4872/4872 [==============================] - 0s 72us/step - loss: 1.0720 - acc: 0.5491 - val_loss: 1.0876 - val_acc: 0.5360\n",
      "Epoch 27/42\n",
      "4872/4872 [==============================] - 0s 76us/step - loss: 1.0729 - acc: 0.5445 - val_loss: 1.0864 - val_acc: 0.5372\n",
      "Epoch 28/42\n",
      "4872/4872 [==============================] - 0s 90us/step - loss: 1.0754 - acc: 0.5474 - val_loss: 1.0859 - val_acc: 0.5415\n",
      "Epoch 29/42\n",
      "4872/4872 [==============================] - 0s 90us/step - loss: 1.0645 - acc: 0.5445 - val_loss: 1.0856 - val_acc: 0.5372\n",
      "Epoch 30/42\n",
      "4872/4872 [==============================] - 0s 98us/step - loss: 1.0661 - acc: 0.5511 - val_loss: 1.0839 - val_acc: 0.5354\n",
      "Epoch 31/42\n",
      "4872/4872 [==============================] - 0s 69us/step - loss: 1.0634 - acc: 0.5491 - val_loss: 1.0838 - val_acc: 0.5434\n",
      "Epoch 32/42\n",
      "4872/4872 [==============================] - 0s 88us/step - loss: 1.0752 - acc: 0.5431 - val_loss: 1.0836 - val_acc: 0.5372\n",
      "Epoch 33/42\n",
      "4872/4872 [==============================] - 0s 99us/step - loss: 1.0657 - acc: 0.5558 - val_loss: 1.0845 - val_acc: 0.5372\n",
      "Epoch 34/42\n",
      "4872/4872 [==============================] - 0s 94us/step - loss: 1.0661 - acc: 0.5472 - val_loss: 1.0823 - val_acc: 0.5360\n",
      "Epoch 35/42\n",
      "4872/4872 [==============================] - 0s 89us/step - loss: 1.0629 - acc: 0.5497 - val_loss: 1.0826 - val_acc: 0.5372\n",
      "Epoch 36/42\n",
      "4872/4872 [==============================] - 1s 111us/step - loss: 1.0710 - acc: 0.5369 - val_loss: 1.0813 - val_acc: 0.5354\n",
      "Epoch 37/42\n",
      "4872/4872 [==============================] - 1s 105us/step - loss: 1.0658 - acc: 0.5521 - val_loss: 1.0790 - val_acc: 0.5403\n",
      "Epoch 38/42\n",
      "4872/4872 [==============================] - 0s 82us/step - loss: 1.0647 - acc: 0.5515 - val_loss: 1.0808 - val_acc: 0.5378\n",
      "Epoch 39/42\n",
      "4872/4872 [==============================] - 0s 93us/step - loss: 1.0655 - acc: 0.5478 - val_loss: 1.0806 - val_acc: 0.5335\n",
      "Epoch 40/42\n",
      "4872/4872 [==============================] - 0s 86us/step - loss: 1.0630 - acc: 0.5470 - val_loss: 1.0789 - val_acc: 0.5372\n",
      "Epoch 41/42\n",
      "4872/4872 [==============================] - 0s 97us/step - loss: 1.0622 - acc: 0.5505 - val_loss: 1.0782 - val_acc: 0.5366\n",
      "Epoch 42/42\n",
      "4872/4872 [==============================] - 1s 135us/step - loss: 1.0594 - acc: 0.5503 - val_loss: 1.0775 - val_acc: 0.5354\n"
     ]
    }
   ],
   "source": [
    "model_d.add(Dense(n_hidden, input_dim=n_input, activation='relu'))\n",
    "model_d.add(Dropout(rate=0.2)) #fraction of the input units too drop\n",
    "model_d.add(Dense(7, activation='softmax'))\n",
    "\n",
    "model_d.compile(loss='categorical_crossentropy', optimizer='adam', metrics=['acc'])\n",
    "\n",
    "history_d = model_d.fit(X_train_s, y_train, validation_data=(X_test_s, y_test),\n",
    "                       epochs=42, batch_size=None)"
   ]
  },
  {
   "cell_type": "code",
   "execution_count": 61,
   "metadata": {},
   "outputs": [
    {
     "data": {
      "image/png": "[encoded data removed]",
      "text/plain": [
       "<Figure size 432x288 with 1 Axes>"
      ]
     },
     "metadata": {
      "needs_background": "light"
     },
     "output_type": "display_data"
    }
   ],
   "source": [
    "plt.plot(history_d.history['loss'], label='Training loss')\n",
    "plt.plot(history_d.history['val_loss'], label='Testing loss')\n",
    "plt.legend();"
   ]
  },
  {
   "cell_type": "code",
   "execution_count": 62,
   "metadata": {},
   "outputs": [
    {
     "data": {
      "text/plain": [
       "(0.5502873563218391, 0.5353846151645367)"
      ]
     },
     "execution_count": 62,
     "metadata": {},
     "output_type": "execute_result"
    }
   ],
   "source": [
    "history_d.history['acc'][-1], history_d.history['val_acc'][-1]"
   ]
  },
  {
   "cell_type": "markdown",
   "metadata": {},
   "source": [
    "### Early Stopping"
   ]
  },
  {
   "cell_type": "markdown",
   "metadata": {},
   "source": [
    "Another idea is to try to terminate the training process early, even before some pre-specified number of epochs.\n",
    "\n",
    "$\\rightarrow$ Why is this a good idea? *Is* it a good idea?\n",
    "\n",
    "Was this sort of regularization available to us before? Why (not)?"
   ]
  },
  {
   "cell_type": "markdown",
   "metadata": {},
   "source": [
    "- Helps us to avoid overfitting to training data, especially with MANY epochs\n",
    "- can set this to kick in WHEN THE CHANGE IN THE TESTING LOSS BECOMES REALLY SMALL/PROGRESS BECOMES INSIGNIFICANT"
   ]
  },
  {
   "cell_type": "code",
   "execution_count": 63,
   "metadata": {},
   "outputs": [],
   "source": [
    "from keras.callbacks import EarlyStopping"
   ]
  },
  {
   "cell_type": "code",
   "execution_count": 64,
   "metadata": {},
   "outputs": [
    {
     "name": "stdout",
     "output_type": "stream",
     "text": [
      "Train on 4872 samples, validate on 1625 samples\n",
      "Epoch 1/42\n",
      "4872/4872 [==============================] - 1s 158us/step - loss: 1.7166 - acc: 0.3311 - val_loss: 1.4823 - val_acc: 0.3834\n",
      "Epoch 2/42\n",
      "4872/4872 [==============================] - 0s 65us/step - loss: 1.3658 - acc: 0.4169 - val_loss: 1.3020 - val_acc: 0.4437\n",
      "Epoch 3/42\n",
      "4872/4872 [==============================] - 0s 66us/step - loss: 1.2458 - acc: 0.4698 - val_loss: 1.2279 - val_acc: 0.4911\n",
      "Epoch 4/42\n",
      "4872/4872 [==============================] - 0s 86us/step - loss: 1.1920 - acc: 0.4951 - val_loss: 1.1902 - val_acc: 0.5095\n",
      "Epoch 5/42\n",
      "4872/4872 [==============================] - 0s 74us/step - loss: 1.1623 - acc: 0.5064 - val_loss: 1.1691 - val_acc: 0.5132\n",
      "Epoch 6/42\n",
      "4872/4872 [==============================] - 0s 69us/step - loss: 1.1430 - acc: 0.5160 - val_loss: 1.1539 - val_acc: 0.5262\n",
      "Epoch 7/42\n",
      "4872/4872 [==============================] - 0s 71us/step - loss: 1.1288 - acc: 0.5218 - val_loss: 1.1443 - val_acc: 0.5249\n",
      "Epoch 8/42\n",
      "4872/4872 [==============================] - 0s 70us/step - loss: 1.1182 - acc: 0.5345 - val_loss: 1.1376 - val_acc: 0.5237\n",
      "Epoch 9/42\n",
      "4872/4872 [==============================] - 0s 66us/step - loss: 1.1084 - acc: 0.5376 - val_loss: 1.1297 - val_acc: 0.5262\n",
      "Epoch 10/42\n",
      "4872/4872 [==============================] - 0s 89us/step - loss: 1.1018 - acc: 0.5456 - val_loss: 1.1253 - val_acc: 0.5262\n",
      "Epoch 11/42\n",
      "4872/4872 [==============================] - 0s 88us/step - loss: 1.0949 - acc: 0.5466 - val_loss: 1.1198 - val_acc: 0.5335\n",
      "Epoch 12/42\n",
      "4872/4872 [==============================] - 0s 79us/step - loss: 1.0894 - acc: 0.5499 - val_loss: 1.1164 - val_acc: 0.5354\n",
      "Epoch 13/42\n",
      "4872/4872 [==============================] - 0s 71us/step - loss: 1.0846 - acc: 0.5523 - val_loss: 1.1135 - val_acc: 0.5335\n",
      "Epoch 14/42\n",
      "4872/4872 [==============================] - 0s 68us/step - loss: 1.0808 - acc: 0.5556 - val_loss: 1.1110 - val_acc: 0.5366\n",
      "Epoch 15/42\n",
      "4872/4872 [==============================] - 0s 68us/step - loss: 1.0764 - acc: 0.5595 - val_loss: 1.1073 - val_acc: 0.5348\n",
      "Epoch 16/42\n",
      "4872/4872 [==============================] - 0s 66us/step - loss: 1.0725 - acc: 0.5569 - val_loss: 1.1063 - val_acc: 0.5360\n",
      "Epoch 17/42\n",
      "4872/4872 [==============================] - 0s 66us/step - loss: 1.0698 - acc: 0.5597 - val_loss: 1.1041 - val_acc: 0.5409\n",
      "Epoch 18/42\n",
      "4872/4872 [==============================] - 0s 66us/step - loss: 1.0664 - acc: 0.5612 - val_loss: 1.1012 - val_acc: 0.5342\n",
      "Epoch 19/42\n",
      "4872/4872 [==============================] - 0s 66us/step - loss: 1.0636 - acc: 0.5612 - val_loss: 1.0991 - val_acc: 0.5372\n",
      "Epoch 20/42\n",
      "4872/4872 [==============================] - 0s 64us/step - loss: 1.0611 - acc: 0.5677 - val_loss: 1.0961 - val_acc: 0.5360\n",
      "Epoch 21/42\n",
      "4872/4872 [==============================] - 0s 68us/step - loss: 1.0578 - acc: 0.5610 - val_loss: 1.0952 - val_acc: 0.5385\n",
      "Epoch 22/42\n",
      "4872/4872 [==============================] - 0s 65us/step - loss: 1.0559 - acc: 0.5665 - val_loss: 1.0919 - val_acc: 0.5385\n",
      "Epoch 23/42\n",
      "4872/4872 [==============================] - 0s 68us/step - loss: 1.0543 - acc: 0.5642 - val_loss: 1.0908 - val_acc: 0.5372\n",
      "Epoch 24/42\n",
      "4872/4872 [==============================] - 0s 63us/step - loss: 1.0524 - acc: 0.5663 - val_loss: 1.0902 - val_acc: 0.5360\n",
      "Epoch 25/42\n",
      "4872/4872 [==============================] - 0s 89us/step - loss: 1.0507 - acc: 0.5655 - val_loss: 1.0910 - val_acc: 0.5385\n",
      "Epoch 00025: early stopping\n"
     ]
    }
   ],
   "source": [
    "from keras.callbacks import EarlyStopping\n",
    "\n",
    "model_es = Sequential()\n",
    "\n",
    "n_input = X_train_s.shape[1]\n",
    "n_hidden = n_input\n",
    "\n",
    "model_es.add(Dense(n_hidden, input_dim=n_input, activation='relu'))\n",
    "model_es.add(Dense(7, activation='softmax'))\n",
    "\n",
    "model_es.compile(loss='categorical_crossentropy', optimizer='adam', metrics=['acc'])\n",
    "\n",
    "early_stop = EarlyStopping(monitor='val_loss', min_delta=1e-08, patience=0, verbose=1, mode='auto')\n",
    "#when change gets below min_delta, patience=0 means stop right away\n",
    "#patience > 0 tells it your propensity for epochs without additional progress\n",
    "\n",
    "callbacks_list = [early_stop]\n",
    "\n",
    "history_es = model_es.fit(X_train_s, y_train, validation_data=(X_test_s, y_test),\n",
    "                         epochs=42, batch_size=None, callbacks=callbacks_list)"
   ]
  },
  {
   "cell_type": "code",
   "execution_count": 65,
   "metadata": {},
   "outputs": [
    {
     "data": {
      "image/png": "[encoded data removed]",
      "text/plain": [
       "<Figure size 432x288 with 1 Axes>"
      ]
     },
     "metadata": {
      "needs_background": "light"
     },
     "output_type": "display_data"
    }
   ],
   "source": [
    "plt.plot(history_es.history['loss'], label='Training loss')\n",
    "plt.plot(history_es.history['val_loss'], label='Testing loss')\n",
    "plt.legend();"
   ]
  },
  {
   "cell_type": "code",
   "execution_count": null,
   "metadata": {},
   "outputs": [],
   "source": []
  }
 ],
 "metadata": {
  "kernelspec": {
   "display_name": "Python 3",
   "language": "python",
   "name": "python3"
  },
  "language_info": {
   "codemirror_mode": {
    "name": "ipython",
    "version": 3
   },
   "file_extension": ".py",
   "mimetype": "text/x-python",
   "name": "python",
   "nbconvert_exporter": "python",
   "pygments_lexer": "ipython3",
   "version": "3.6.6"
  }
 },
 "nbformat": 4,
 "nbformat_minor": 2
}
